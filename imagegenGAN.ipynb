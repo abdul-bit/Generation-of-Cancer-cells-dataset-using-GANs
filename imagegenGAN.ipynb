{
  "nbformat": 4,
  "nbformat_minor": 0,
  "metadata": {
    "colab": {
      "name": "imagegenGAN",
      "provenance": [],
      "collapsed_sections": []
    },
    "kernelspec": {
      "name": "python3",
      "display_name": "Python 3"
    },
    "language_info": {
      "name": "python"
    },
    "accelerator": "GPU"
  },
  "cells": [
    {
      "cell_type": "code",
      "metadata": {
        "id": "zoK7gvqtJN4w",
        "colab": {
          "base_uri": "https://localhost:8080/"
        },
        "outputId": "feca9071-7d12-426f-8743-b87666d09e80"
      },
      "source": [
        "!pip install tensorflow==1.13.1"
      ],
      "execution_count": null,
      "outputs": [
        {
          "output_type": "stream",
          "name": "stdout",
          "text": [
            "Collecting tensorflow==1.13.1\n",
            "  Downloading tensorflow-1.13.1-cp37-cp37m-manylinux1_x86_64.whl (92.6 MB)\n",
            "\u001b[K     |████████████████████████████████| 92.6 MB 22 kB/s \n",
            "\u001b[?25hCollecting tensorflow-estimator<1.14.0rc0,>=1.13.0\n",
            "  Downloading tensorflow_estimator-1.13.0-py2.py3-none-any.whl (367 kB)\n",
            "\u001b[K     |████████████████████████████████| 367 kB 45.3 MB/s \n",
            "\u001b[?25hCollecting tensorboard<1.14.0,>=1.13.0\n",
            "  Downloading tensorboard-1.13.1-py3-none-any.whl (3.2 MB)\n",
            "\u001b[K     |████████████████████████████████| 3.2 MB 36.5 MB/s \n",
            "\u001b[?25hRequirement already satisfied: astor>=0.6.0 in /usr/local/lib/python3.7/dist-packages (from tensorflow==1.13.1) (0.8.1)\n",
            "Requirement already satisfied: termcolor>=1.1.0 in /usr/local/lib/python3.7/dist-packages (from tensorflow==1.13.1) (1.1.0)\n",
            "Requirement already satisfied: protobuf>=3.6.1 in /usr/local/lib/python3.7/dist-packages (from tensorflow==1.13.1) (3.17.3)\n",
            "Requirement already satisfied: wheel>=0.26 in /usr/local/lib/python3.7/dist-packages (from tensorflow==1.13.1) (0.37.0)\n",
            "Requirement already satisfied: keras-preprocessing>=1.0.5 in /usr/local/lib/python3.7/dist-packages (from tensorflow==1.13.1) (1.1.2)\n",
            "Requirement already satisfied: grpcio>=1.8.6 in /usr/local/lib/python3.7/dist-packages (from tensorflow==1.13.1) (1.41.0)\n",
            "Collecting keras-applications>=1.0.6\n",
            "  Downloading Keras_Applications-1.0.8-py3-none-any.whl (50 kB)\n",
            "\u001b[K     |████████████████████████████████| 50 kB 6.8 MB/s \n",
            "\u001b[?25hRequirement already satisfied: numpy>=1.13.3 in /usr/local/lib/python3.7/dist-packages (from tensorflow==1.13.1) (1.19.5)\n",
            "Requirement already satisfied: six>=1.10.0 in /usr/local/lib/python3.7/dist-packages (from tensorflow==1.13.1) (1.15.0)\n",
            "Requirement already satisfied: absl-py>=0.1.6 in /usr/local/lib/python3.7/dist-packages (from tensorflow==1.13.1) (0.12.0)\n",
            "Requirement already satisfied: gast>=0.2.0 in /usr/local/lib/python3.7/dist-packages (from tensorflow==1.13.1) (0.4.0)\n",
            "Requirement already satisfied: h5py in /usr/local/lib/python3.7/dist-packages (from keras-applications>=1.0.6->tensorflow==1.13.1) (3.1.0)\n",
            "Requirement already satisfied: markdown>=2.6.8 in /usr/local/lib/python3.7/dist-packages (from tensorboard<1.14.0,>=1.13.0->tensorflow==1.13.1) (3.3.4)\n",
            "Requirement already satisfied: werkzeug>=0.11.15 in /usr/local/lib/python3.7/dist-packages (from tensorboard<1.14.0,>=1.13.0->tensorflow==1.13.1) (1.0.1)\n",
            "Requirement already satisfied: importlib-metadata in /usr/local/lib/python3.7/dist-packages (from markdown>=2.6.8->tensorboard<1.14.0,>=1.13.0->tensorflow==1.13.1) (4.8.1)\n",
            "Collecting mock>=2.0.0\n",
            "  Downloading mock-4.0.3-py3-none-any.whl (28 kB)\n",
            "Requirement already satisfied: cached-property in /usr/local/lib/python3.7/dist-packages (from h5py->keras-applications>=1.0.6->tensorflow==1.13.1) (1.5.2)\n",
            "Requirement already satisfied: typing-extensions>=3.6.4 in /usr/local/lib/python3.7/dist-packages (from importlib-metadata->markdown>=2.6.8->tensorboard<1.14.0,>=1.13.0->tensorflow==1.13.1) (3.7.4.3)\n",
            "Requirement already satisfied: zipp>=0.5 in /usr/local/lib/python3.7/dist-packages (from importlib-metadata->markdown>=2.6.8->tensorboard<1.14.0,>=1.13.0->tensorflow==1.13.1) (3.6.0)\n",
            "Installing collected packages: mock, tensorflow-estimator, tensorboard, keras-applications, tensorflow\n",
            "  Attempting uninstall: tensorflow-estimator\n",
            "    Found existing installation: tensorflow-estimator 2.6.0\n",
            "    Uninstalling tensorflow-estimator-2.6.0:\n",
            "      Successfully uninstalled tensorflow-estimator-2.6.0\n",
            "  Attempting uninstall: tensorboard\n",
            "    Found existing installation: tensorboard 2.6.0\n",
            "    Uninstalling tensorboard-2.6.0:\n",
            "      Successfully uninstalled tensorboard-2.6.0\n",
            "  Attempting uninstall: tensorflow\n",
            "    Found existing installation: tensorflow 2.6.0\n",
            "    Uninstalling tensorflow-2.6.0:\n",
            "      Successfully uninstalled tensorflow-2.6.0\n",
            "\u001b[31mERROR: pip's dependency resolver does not currently take into account all the packages that are installed. This behaviour is the source of the following dependency conflicts.\n",
            "kapre 0.3.5 requires tensorflow>=2.0.0, but you have tensorflow 1.13.1 which is incompatible.\u001b[0m\n",
            "Successfully installed keras-applications-1.0.8 mock-4.0.3 tensorboard-1.13.1 tensorflow-1.13.1 tensorflow-estimator-1.13.0\n"
          ]
        }
      ]
    },
    {
      "cell_type": "code",
      "metadata": {
        "colab": {
          "base_uri": "https://localhost:8080/"
        },
        "id": "X2LssP7P_RTw",
        "outputId": "b84c4c7a-0bab-4048-b3fe-670f969dc7b1"
      },
      "source": [
        "!pip uninstall kapre"
      ],
      "execution_count": null,
      "outputs": [
        {
          "output_type": "stream",
          "name": "stdout",
          "text": [
            "Found existing installation: kapre 0.3.5\n",
            "Uninstalling kapre-0.3.5:\n",
            "  Would remove:\n",
            "    /usr/local/lib/python3.7/dist-packages/kapre-0.3.5.dist-info/*\n",
            "    /usr/local/lib/python3.7/dist-packages/kapre/*\n",
            "Proceed (y/n)? y\n",
            "  Successfully uninstalled kapre-0.3.5\n"
          ]
        }
      ]
    },
    {
      "cell_type": "code",
      "metadata": {
        "id": "sr2EG4D-x3Ye"
      },
      "source": [
        "from __future__ import division\n",
        "from __future__ import print_function\n",
        "from __future__ import absolute_import\n",
        "\n",
        "import numpy as np\n",
        "import math\n",
        "import matplotlib.pyplot as plt\n",
        "plt.switch_backend('agg')\n",
        "plt.style.use('ggplot')\n",
        "\n",
        "class Prior(object):\n",
        "    def __init__(self, type):\n",
        "        self.type = type\n",
        "\n",
        "    def sample(self, shape):\n",
        "        if self.type == \"uniform\":\n",
        "            return np.random.uniform(-1.0, 1.0, shape)\n",
        "        else:\n",
        "            return np.random.normal(0, 1, shape)\n",
        "\n",
        "def conv_out_size_same(size, stride):\n",
        "    return int(math.ceil(float(size) / float(stride)))\n",
        "\n",
        "def make_batches(size, batch_size):\n",
        "    '''Returns a list of batch indices (tuples of indices).\n",
        "    '''\n",
        "    return [(i, min(size, i + batch_size)) for i in range(0, size, batch_size)]\n",
        "\n",
        "def create_image_grid(x, img_size, tile_shape):\n",
        "    assert (x.shape[0] == tile_shape[0] * tile_shape[1])\n",
        "    assert (x[0].shape == img_size)\n",
        "\n",
        "    img = np.zeros((img_size[0] * tile_shape[0] + tile_shape[0] - 1,\n",
        "                    img_size[1] * tile_shape[1] + tile_shape[1] - 1,\n",
        "                    3))\n",
        "\n",
        "    for t in range(x.shape[0]):\n",
        "        i, j = t // tile_shape[1], t % tile_shape[1]\n",
        "        img[i * img_size[0] + i : (i + 1) * img_size[0] + i, j * img_size[1] + j : (j + 1) * img_size[1] + j] = x[t]\n",
        "\n",
        "    return img\n",
        "\n",
        "\n",
        "def disp_scatter(x, g, gen, num_gens, fig=None, ax=None):\n",
        "    colors = ['darkblue', 'yellow', 'indigo', 'darkgreen', 'purple',\n",
        "              'dodgerblue', 'lime', 'brown', 'darkcyan', 'deeppink']\n",
        "\n",
        "    if ax is None:\n",
        "        fig, ax = plt.subplots()\n",
        "\n",
        "    ax.cla()\n",
        "    ax.scatter(x[:, 0], x[:, 1], s=10, marker='+', color='r', alpha=0.8)\n",
        "    for i in range(num_gens):\n",
        "        ax.scatter(g[gen == i, 0], g[gen == i, 1], s=10, marker='o',\n",
        "                   color=colors[i], alpha=0.8)\n",
        "    ax.legend([\"real data\"] + ['gen {}'.format(i) for i in range(num_gens)])\n",
        "    ax.set_xlim(-3, 3)\n",
        "    ax.set_ylim(-3, 3)\n",
        "    return fig, ax"
      ],
      "execution_count": null,
      "outputs": []
    },
    {
      "cell_type": "code",
      "metadata": {
        "id": "RyCuICc4GHY2",
        "colab": {
          "base_uri": "https://localhost:8080/"
        },
        "outputId": "82deb7e0-f9a6-470e-86d7-54156e0328e0"
      },
      "source": [
        "import tensorflow as tf\n",
        "\n",
        "def lrelu(x, alpha=0.2):\n",
        "    return tf.maximum(x, alpha * x)\n",
        "\n",
        "def linear(input, output_dim, scope='linear', stddev=0.01):\n",
        "    norm = tf.random_normal_initializer(stddev=stddev)\n",
        "    const = tf.constant_initializer(0.0)\n",
        "    with tf.variable_scope(scope):\n",
        "        w = tf.get_variable('weights', [input.get_shape()[1], output_dim], initializer=norm)\n",
        "        b = tf.get_variable('biases', [output_dim], initializer=const)\n",
        "        return tf.matmul(input, w) + b\n",
        "\n",
        "def conv2d(input_, output_dim,\n",
        "           k_h=5, k_w=5, d_h=2, d_w=2, stddev=0.02,\n",
        "           name=\"conv2d\"):\n",
        "    with tf.variable_scope(name):\n",
        "        w = tf.get_variable('weights', [k_h, k_w, input_.get_shape()[-1], output_dim],\n",
        "                            initializer=tf.truncated_normal_initializer(stddev=stddev))\n",
        "        conv = tf.nn.conv2d(input_, w, strides=[1, d_h, d_w, 1], padding='SAME')\n",
        "\n",
        "        biases = tf.get_variable('biases', [output_dim], initializer=tf.constant_initializer(0.0))\n",
        "        # conv = tf.reshape(tf.nn.bias_add(conv, biases), conv.get_shape())\n",
        "\n",
        "        return tf.nn.bias_add(conv, biases)\n",
        "\n",
        "\n",
        "def deconv2d(input_, output_shape,\n",
        "             k_h=5, k_w=5, d_h=2, d_w=2, stddev=0.02,\n",
        "             name=\"deconv2d\", with_w=False):\n",
        "    with tf.variable_scope(name):\n",
        "        # filter : [height, width, output_channels, in_channels]\n",
        "        w = tf.get_variable('weights', [k_h, k_w, output_shape[-1], input_.get_shape()[-1]],\n",
        "                            initializer=tf.random_normal_initializer(stddev=stddev))\n",
        "\n",
        "        try:\n",
        "            deconv = tf.nn.conv2d_transpose(input_, w, output_shape=output_shape,\n",
        "                                            strides=[1, d_h, d_w, 1])\n",
        "\n",
        "        # Support for versions of TensorFlow before 0.7.0\n",
        "        except AttributeError:\n",
        "            deconv = tf.nn.deconv2d(input_, w, output_shape=output_shape,\n",
        "                                    strides=[1, d_h, d_w, 1])\n",
        "\n",
        "        biases = tf.get_variable('biases', [output_shape[-1]],\n",
        "                                 initializer=tf.constant_initializer(0.0))\n",
        "        deconv = tf.reshape(tf.nn.bias_add(deconv, biases), deconv.get_shape())\n",
        "\n",
        "        if with_w:\n",
        "            return deconv, w, biases\n",
        "        else:\n",
        "            return deconv\n",
        "\n",
        "def gmm_sample(num_samples, mix_coeffs, mean, cov):\n",
        "    z = np.random.multinomial(num_samples, mix_coeffs)\n",
        "    samples = np.zeros(shape=[num_samples, len(mean[0])])\n",
        "    i_start = 0\n",
        "    for i in range(len(mix_coeffs)):\n",
        "        i_end = i_start + z[i]\n",
        "        samples[i_start:i_end, :] = np.random.multivariate_normal(\n",
        "            mean=np.array(mean)[i, :],\n",
        "            cov=np.diag(np.array(cov)[i, :]),\n",
        "            size=z[i])\n",
        "        i_start = i_end\n",
        "    return samples"
      ],
      "execution_count": null,
      "outputs": [
        {
          "output_type": "stream",
          "name": "stderr",
          "text": [
            "/usr/local/lib/python3.7/dist-packages/tensorflow/python/framework/dtypes.py:526: FutureWarning: Passing (type, 1) or '1type' as a synonym of type is deprecated; in a future version of numpy, it will be understood as (type, (1,)) / '(1,)type'.\n",
            "  _np_qint8 = np.dtype([(\"qint8\", np.int8, 1)])\n",
            "/usr/local/lib/python3.7/dist-packages/tensorflow/python/framework/dtypes.py:527: FutureWarning: Passing (type, 1) or '1type' as a synonym of type is deprecated; in a future version of numpy, it will be understood as (type, (1,)) / '(1,)type'.\n",
            "  _np_quint8 = np.dtype([(\"quint8\", np.uint8, 1)])\n",
            "/usr/local/lib/python3.7/dist-packages/tensorflow/python/framework/dtypes.py:528: FutureWarning: Passing (type, 1) or '1type' as a synonym of type is deprecated; in a future version of numpy, it will be understood as (type, (1,)) / '(1,)type'.\n",
            "  _np_qint16 = np.dtype([(\"qint16\", np.int16, 1)])\n",
            "/usr/local/lib/python3.7/dist-packages/tensorflow/python/framework/dtypes.py:529: FutureWarning: Passing (type, 1) or '1type' as a synonym of type is deprecated; in a future version of numpy, it will be understood as (type, (1,)) / '(1,)type'.\n",
            "  _np_quint16 = np.dtype([(\"quint16\", np.uint16, 1)])\n",
            "/usr/local/lib/python3.7/dist-packages/tensorflow/python/framework/dtypes.py:530: FutureWarning: Passing (type, 1) or '1type' as a synonym of type is deprecated; in a future version of numpy, it will be understood as (type, (1,)) / '(1,)type'.\n",
            "  _np_qint32 = np.dtype([(\"qint32\", np.int32, 1)])\n",
            "/usr/local/lib/python3.7/dist-packages/tensorflow/python/framework/dtypes.py:535: FutureWarning: Passing (type, 1) or '1type' as a synonym of type is deprecated; in a future version of numpy, it will be understood as (type, (1,)) / '(1,)type'.\n",
            "  np_resource = np.dtype([(\"resource\", np.ubyte, 1)])\n"
          ]
        }
      ]
    },
    {
      "cell_type": "code",
      "metadata": {
        "id": "csXjIBs7GclW"
      },
      "source": [
        "from functools import partial\n",
        "\n",
        "import os\n",
        "\n",
        "\n",
        "batch_norm = partial(tf.contrib.layers.batch_norm,\n",
        "                     decay=0.9,\n",
        "                     updates_collections=None,\n",
        "                     epsilon=1e-5,\n",
        "                     scale=True)\n",
        "\n",
        "\n",
        "class MGAN(object):\n",
        "    \"\"\"Mixture Generative Adversarial Nets\n",
        "    \"\"\"\n",
        "\n",
        "    def __init__(self,\n",
        "                 model_name='MGAN',\n",
        "                 beta=1.0,\n",
        "                 num_z=128,\n",
        "                 num_gens=4,\n",
        "                 d_batch_size=64,\n",
        "                 g_batch_size=32,\n",
        "                 z_prior=\"uniform\",\n",
        "                 same_input=True,\n",
        "                 learning_rate=0.0002,\n",
        "                 img_size=(32, 32, 3),  # (height, width, channels)\n",
        "                 num_conv_layers=3,\n",
        "                 num_gen_feature_maps=128,  # number of feature maps of generator\n",
        "                 num_dis_feature_maps=128,  # number of feature maps of discriminator\n",
        "                 sample_fp=None,\n",
        "                 sample_by_gen_fp=None,\n",
        "                 num_epochs=25000,\n",
        "                 random_seed=6789):\n",
        "        self.beta = beta\n",
        "        self.num_z = num_z\n",
        "        self.num_gens = num_gens\n",
        "        self.d_batch_size = d_batch_size\n",
        "        self.g_batch_size = g_batch_size\n",
        "        self.z_prior = Prior(z_prior)\n",
        "        self.same_input = same_input\n",
        "        self.learning_rate = learning_rate\n",
        "        self.num_epochs = num_epochs\n",
        "        self.img_size = img_size\n",
        "        self.num_conv_layers = num_conv_layers\n",
        "        self.num_gen_feature_maps = num_gen_feature_maps\n",
        "        self.num_dis_feature_maps = num_dis_feature_maps\n",
        "        self.sample_fp = sample_fp\n",
        "        self.sample_by_gen_fp = sample_by_gen_fp\n",
        "        self.random_seed = random_seed\n",
        "\n",
        "    def _init(self):\n",
        "        self.epoch = 0\n",
        "\n",
        "        # TensorFlow's initialization\n",
        "        self.tf_graph = tf.Graph()\n",
        "        self.tf_config = tf.ConfigProto()\n",
        "        self.tf_config.gpu_options.allow_growth = True\n",
        "        self.tf_config.log_device_placement = False\n",
        "        self.tf_config.allow_soft_placement = True\n",
        "        self.tf_session = tf.Session(config=self.tf_config, graph=self.tf_graph)\n",
        "\n",
        "        np.random.seed(self.random_seed)\n",
        "        with self.tf_graph.as_default():\n",
        "            tf.set_random_seed(self.random_seed)\n",
        "\n",
        "    def _build_model(self):\n",
        "        arr = np.array([i // self.g_batch_size for i in range(self.g_batch_size * self.num_gens)])\n",
        "        d_mul_labels = tf.constant(arr, dtype=tf.int32)\n",
        "\n",
        "        self.x = tf.placeholder(tf.float32, [None,\n",
        "                                             self.img_size[0], self.img_size[1], self.img_size[2]],\n",
        "                                name=\"real_data\")\n",
        "        self.z = tf.placeholder(tf.float32, [self.g_batch_size * self.num_gens, self.num_z], name='noise')\n",
        "\n",
        "        # create generator G\n",
        "        self.g = self._create_generator(self.z)\n",
        "\n",
        "        # create sampler to generate samples\n",
        "        self.sampler = self._create_generator(self.z, train=False, reuse=True)\n",
        "\n",
        "        # create discriminator D\n",
        "        d_bin_x_logits, d_mul_x_logits = self._create_discriminator(self.x)\n",
        "        d_bin_g_logits, d_mul_g_logits = self._create_discriminator(self.g, reuse=True)\n",
        "\n",
        "        # define loss functions\n",
        "        self.d_bin_x_loss = tf.reduce_mean(\n",
        "            tf.nn.sigmoid_cross_entropy_with_logits(\n",
        "                logits=d_bin_x_logits, labels=tf.ones_like(d_bin_x_logits)),\n",
        "            name='d_bin_x_loss')\n",
        "        self.d_bin_g_loss = tf.reduce_mean(\n",
        "            tf.nn.sigmoid_cross_entropy_with_logits(\n",
        "                logits=d_bin_g_logits, labels=tf.zeros_like(d_bin_g_logits)),\n",
        "            name='d_bin_g_loss')\n",
        "        self.d_bin_loss = tf.add(self.d_bin_x_loss, self.d_bin_g_loss, name='d_bin_loss')\n",
        "        self.d_mul_loss = tf.reduce_mean(\n",
        "            tf.nn.sparse_softmax_cross_entropy_with_logits(\n",
        "                logits=d_mul_g_logits, labels=d_mul_labels),\n",
        "            name=\"d_mul_loss\")\n",
        "        self.d_loss = tf.add(self.d_bin_loss, self.d_mul_loss, name=\"d_loss\")\n",
        "\n",
        "        self.g_bin_loss = tf.reduce_mean(\n",
        "            tf.nn.sigmoid_cross_entropy_with_logits(\n",
        "                logits=d_bin_g_logits, labels=tf.ones_like(d_bin_g_logits)),\n",
        "            name=\"g_bin_loss\")\n",
        "        self.g_mul_loss = tf.multiply(self.beta, self.d_mul_loss, name='g_mul_loss')\n",
        "        self.g_loss = tf.add(self.g_bin_loss, self.g_mul_loss, name=\"g_loss\")\n",
        "\n",
        "        # create optimizers\n",
        "        self.d_opt = self._create_optimizer(self.d_loss, scope='discriminator',\n",
        "                                            lr=self.learning_rate)\n",
        "        self.g_opt = self._create_optimizer(self.g_loss, scope='generator',\n",
        "                                            lr=self.learning_rate)\n",
        "\n",
        "    def _create_generator(self, z, train=True, reuse=False, name=\"generator\"):\n",
        "        out_size = [(conv_out_size_same(self.img_size[0], 2),\n",
        "                     conv_out_size_same(self.img_size[1], 2),\n",
        "                     self.num_gen_feature_maps)]\n",
        "        for i in range(self.num_conv_layers - 1):\n",
        "            out_size = [(conv_out_size_same(out_size[0][0], 2),\n",
        "                         conv_out_size_same(out_size[0][1], 2),\n",
        "                         out_size[0][2] * 2)] + out_size\n",
        "\n",
        "        with tf.variable_scope(name) as scope:\n",
        "            if reuse:\n",
        "                scope.reuse_variables()\n",
        "\n",
        "            z_split = tf.split(z, self.num_gens, axis=0)\n",
        "            h0 = []\n",
        "            for i, var in enumerate(z_split):\n",
        "                h0.append(tf.nn.relu(batch_norm(linear(var, out_size[0][0] * out_size[0][1] * out_size[0][2],\n",
        "                                                       scope='g_h0_linear{}'.format(i), stddev=0.02),\n",
        "                                                is_training=train,\n",
        "                                                scope=\"g_h0_bn{}\".format(i)),\n",
        "                                     name=\"g_h0_relu{}\".format(i)))\n",
        "\n",
        "            h = []\n",
        "            for var in h0:\n",
        "                h.append(tf.reshape(var, [self.g_batch_size, out_size[0][0], out_size[0][1], out_size[0][2]]))\n",
        "            h = tf.concat(h, axis=0, name=\"g_h0_relu\")\n",
        "\n",
        "            for i in range(1, self.num_conv_layers):\n",
        "                h = tf.nn.relu(\n",
        "                    batch_norm(\n",
        "                        deconv2d(h,\n",
        "                                 [self.g_batch_size  * self.num_gens, out_size[i][0], out_size[i][1], out_size[i][2]],\n",
        "                                 stddev=0.02, name=\"g_h{}_deconv\".format(i)),\n",
        "                        is_training=train,\n",
        "                        center=False,\n",
        "                        scope=\"g_h{}_bn\".format(i)),\n",
        "                    name=\"g_h{}_relu\".format(i))\n",
        "\n",
        "            g_out = tf.nn.tanh(\n",
        "                deconv2d(h,\n",
        "                         [self.g_batch_size * self.num_gens, self.img_size[0], self.img_size[1], self.img_size[2]],\n",
        "                         stddev=0.02, name=\"g_out_deconv\"),\n",
        "                name=\"g_out_tanh\")\n",
        "            return g_out\n",
        "\n",
        "    def _create_discriminator(self, x, train=True, reuse=False, name=\"discriminator\"):\n",
        "        with tf.variable_scope(name) as scope:\n",
        "            if reuse:\n",
        "                scope.reuse_variables()\n",
        "\n",
        "            h = x\n",
        "            for i in range(self.num_conv_layers):\n",
        "                h = lrelu(batch_norm(conv2d(h, self.num_dis_feature_maps * (2 ** i),\n",
        "                                            stddev=0.02, name=\"d_h{}_conv\".format(i)),\n",
        "                                     is_training=train,\n",
        "                                     scope=\"d_bn{}\".format(i)))\n",
        "\n",
        "            dim = h.get_shape()[1:].num_elements()\n",
        "            h = tf.reshape(h, [-1, dim])\n",
        "            d_bin_logits = linear(h, 1, scope='d_bin_logits')\n",
        "            d_mul_logits = linear(h, self.num_gens, scope='d_mul_logits')\n",
        "        return d_bin_logits, d_mul_logits\n",
        "\n",
        "    def _create_optimizer(self, loss, scope, lr):\n",
        "        params = tf.get_collection(tf.GraphKeys.TRAINABLE_VARIABLES, scope=scope)\n",
        "        opt = tf.train.AdamOptimizer(lr, beta1=0.5)\n",
        "        grads = opt.compute_gradients(loss, var_list=params)\n",
        "        train_op = opt.apply_gradients(grads)\n",
        "        return train_op\n",
        "\n",
        "    def fit(self, x):\n",
        "        if (not hasattr(self, 'epoch')) or self.epoch == 0:\n",
        "            self._init()\n",
        "            with self.tf_graph.as_default():\n",
        "                self._build_model()\n",
        "                self.tf_session.run(tf.global_variables_initializer())\n",
        "\n",
        "        num_data = x.shape[0] - x.shape[0] % self.d_batch_size\n",
        "        batches = make_batches(num_data, self.d_batch_size)\n",
        "        best_is = 0.0\n",
        "        while (self.epoch < self.num_epochs):\n",
        "            for batch_idx, (batch_start, batch_end) in enumerate(batches):\n",
        "                batch_size = batch_end - batch_start\n",
        "\n",
        "                x_batch = x[batch_start:batch_end]\n",
        "                if self.same_input:\n",
        "                    z_batch = self.z_prior.sample([self.g_batch_size, self.num_z]).astype(np.float32)\n",
        "                    z_batch = np.vstack([z_batch] * self.num_gens)\n",
        "                else:\n",
        "                    z_batch = self.z_prior.sample([self.g_batch_size * self.num_gens, self.num_z]).astype(np.float32)\n",
        "\n",
        "                # update discriminator D\n",
        "                d_bin_loss, d_mul_loss, d_loss, _ = self.tf_session.run(\n",
        "                    [self.d_bin_loss, self.d_mul_loss, self.d_loss, self.d_opt],\n",
        "                    feed_dict={self.x: x_batch, self.z: z_batch})\n",
        "\n",
        "                # update generator G\n",
        "                g_bin_loss, g_mul_loss, g_loss, _ = self.tf_session.run(\n",
        "                    [self.g_bin_loss, self.g_mul_loss, self.g_loss, self.g_opt],\n",
        "                    feed_dict={self.z: z_batch})\n",
        "\n",
        "            self.epoch += 1\n",
        "            print(\"Epoch: [%4d/%4d] d_bin_loss: %.5f, d_mul_loss: %.5f, d_loss: %.5f,\"\n",
        "                  \" g_bin_loss: %.5f, g_mul_loss: %.5f, g_loss: %.5f\" % (self.epoch, self.num_epochs,\n",
        "                                d_bin_loss, d_mul_loss, d_loss, g_bin_loss, g_mul_loss, g_loss))\n",
        "            self._samples(self.sample_fp.format(epoch=self.epoch+1))\n",
        "            self._samples_by_gen(self.sample_by_gen_fp.format(epoch=self.epoch+1))\n",
        "\n",
        "    def _generate(self, num_samples=100):\n",
        "        sess = self.tf_session\n",
        "        batch_size = self.g_batch_size * self.num_gens\n",
        "        num = ((num_samples - 1) // batch_size + 1) * batch_size\n",
        "        z = self.z_prior.sample([num, self.num_z]).astype(np.float32)\n",
        "        x = np.zeros([num, self.img_size[0], self.img_size[1], self.img_size[2]],\n",
        "                     dtype=np.float32)\n",
        "        batches = make_batches(num, batch_size)\n",
        "        for batch_idx, (batch_start, batch_end) in enumerate(batches):\n",
        "            z_batch = z[batch_start:batch_end]\n",
        "            x[batch_start:batch_end] = sess.run(self.sampler,\n",
        "                                                feed_dict={self.z: z_batch})\n",
        "        idx = np.random.permutation(num)[:num_samples]\n",
        "        x = (x[idx] + 1.0) / 2.0\n",
        "        return x\n",
        "\n",
        "    def _samples(self, filepath, tile_shape=(10, 10)):\n",
        "        if not os.path.exists(os.path.dirname(filepath)):\n",
        "            os.makedirs(os.path.dirname(filepath))\n",
        "\n",
        "        num_samples = tile_shape[0] * tile_shape[1]\n",
        "        x = self._generate(num_samples)\n",
        "        imgs = create_image_grid(x, img_size=self.img_size, tile_shape=tile_shape)\n",
        "        import imageio\n",
        "        imageio.imsave(filepath, imgs)\n",
        "\n",
        "    def _samples_by_gen(self, filepath):\n",
        "        if not os.path.exists(os.path.dirname(filepath)):\n",
        "            os.makedirs(os.path.dirname(filepath))\n",
        "\n",
        "        num_samples = self.num_gens * 10\n",
        "        tile_shape = (self.num_gens, 10)\n",
        "\n",
        "        sess = self.tf_session\n",
        "        img_per_gen = num_samples // self.num_gens\n",
        "        x = np.zeros([num_samples, self.img_size[0], self.img_size[1], self.img_size[2]],\n",
        "                     dtype=np.float32)\n",
        "        for i in range(0, img_per_gen, self.g_batch_size):\n",
        "            z_batch = self.z_prior.sample([self.g_batch_size * self.num_gens, self.num_z]).astype(np.float32)\n",
        "            samples = sess.run(self.sampler, feed_dict={self.z: z_batch})\n",
        "\n",
        "            for gen in range(self.num_gens):\n",
        "                x[gen * img_per_gen + i:gen * img_per_gen + min(i + self.g_batch_size, img_per_gen)] = \\\n",
        "                    samples[\n",
        "                    gen * self.g_batch_size:gen * self.g_batch_size + min(self.g_batch_size, img_per_gen)]\n",
        "\n",
        "        x = (x + 1.0) / 2.0\n",
        "        imgs = create_image_grid(x, img_size=self.img_size, tile_shape=tile_shape)\n",
        "        import imageio\n",
        "        imageio.imsave(filepath, imgs)"
      ],
      "execution_count": null,
      "outputs": []
    },
    {
      "cell_type": "code",
      "metadata": {
        "id": "YGG0UraIGoR6",
        "colab": {
          "base_uri": "https://localhost:8080/"
        },
        "outputId": "18f41cea-2a3c-40b3-ae05-b894b241a2b5"
      },
      "source": [
        "import sys\n",
        "import pickle\n",
        "import argparse\n",
        "\n",
        "tmp = pickle.load(open(\"/content/lo.pkl\", \"rb\"))\n",
        "x_train = tmp.astype(np.float32).reshape([-1, 32, 32, 3]) / 127.5 - 1.\n",
        "model = MGAN(\n",
        "        num_z=128,\n",
        "        beta=1.0,\n",
        "        num_gens=4,\n",
        "        d_batch_size=64,\n",
        "        g_batch_size=32,\n",
        "        z_prior=\"uniform\",\n",
        "        learning_rate=0.0002,\n",
        "        img_size=(32, 32, 3),\n",
        "        num_conv_layers=3,\n",
        "        num_gen_feature_maps=128,\n",
        "        num_dis_feature_maps=128,\n",
        "        num_epochs=25000,\n",
        "        sample_fp=\"samples/samples_{epoch:04d}.png\",\n",
        "        sample_by_gen_fp=\"samples_by_gen/samples_{epoch:04d}.png\",\n",
        "        random_seed=6789)\n",
        "model.fit(x_train)"
      ],
      "execution_count": null,
      "outputs": [
        {
          "metadata": {
            "tags": null
          },
          "name": "stdout",
          "output_type": "stream",
          "text": [
            "Epoch: [   1/25000] d_bin_loss: 0.29483, d_mul_loss: 2.05636, d_loss: 2.35118, g_bin_loss: 5.85554, g_mul_loss: 2.85738, g_loss: 8.71292\n"
          ]
        },
        {
          "metadata": {
            "tags": null
          },
          "name": "stderr",
          "output_type": "stream",
          "text": [
            "WARNING:root:Lossy conversion from float64 to uint8. Range [0, 1]. Convert image to uint8 prior to saving to suppress this warning.\n",
            "WARNING:root:Lossy conversion from float64 to uint8. Range [0, 1]. Convert image to uint8 prior to saving to suppress this warning.\n"
          ]
        },
        {
          "metadata": {
            "tags": null
          },
          "name": "stdout",
          "output_type": "stream",
          "text": [
            "Epoch: [   2/25000] d_bin_loss: 0.57542, d_mul_loss: 2.61358, d_loss: 3.18900, g_bin_loss: 2.35239, g_mul_loss: 2.70060, g_loss: 5.05299\n"
          ]
        },
        {
          "metadata": {
            "tags": null
          },
          "name": "stderr",
          "output_type": "stream",
          "text": [
            "WARNING:root:Lossy conversion from float64 to uint8. Range [0, 1]. Convert image to uint8 prior to saving to suppress this warning.\n",
            "WARNING:root:Lossy conversion from float64 to uint8. Range [0, 1]. Convert image to uint8 prior to saving to suppress this warning.\n"
          ]
        },
        {
          "metadata": {
            "tags": null
          },
          "name": "stdout",
          "output_type": "stream",
          "text": [
            "Epoch: [   3/25000] d_bin_loss: 0.20653, d_mul_loss: 1.80877, d_loss: 2.01530, g_bin_loss: 4.74055, g_mul_loss: 1.96058, g_loss: 6.70113\n"
          ]
        },
        {
          "metadata": {
            "tags": null
          },
          "name": "stderr",
          "output_type": "stream",
          "text": [
            "WARNING:root:Lossy conversion from float64 to uint8. Range [0, 1]. Convert image to uint8 prior to saving to suppress this warning.\n",
            "WARNING:root:Lossy conversion from float64 to uint8. Range [0, 1]. Convert image to uint8 prior to saving to suppress this warning.\n"
          ]
        },
        {
          "metadata": {
            "tags": null
          },
          "name": "stdout",
          "output_type": "stream",
          "text": [
            "Epoch: [   4/25000] d_bin_loss: 0.21962, d_mul_loss: 1.68612, d_loss: 1.90574, g_bin_loss: 4.49863, g_mul_loss: 1.47803, g_loss: 5.97666\n"
          ]
        },
        {
          "metadata": {
            "tags": null
          },
          "name": "stderr",
          "output_type": "stream",
          "text": [
            "WARNING:root:Lossy conversion from float64 to uint8. Range [0, 1]. Convert image to uint8 prior to saving to suppress this warning.\n",
            "WARNING:root:Lossy conversion from float64 to uint8. Range [0, 1]. Convert image to uint8 prior to saving to suppress this warning.\n"
          ]
        },
        {
          "metadata": {
            "tags": null
          },
          "name": "stdout",
          "output_type": "stream",
          "text": [
            "Epoch: [   5/25000] d_bin_loss: 0.10842, d_mul_loss: 1.39985, d_loss: 1.50828, g_bin_loss: 4.78466, g_mul_loss: 1.35491, g_loss: 6.13956\n"
          ]
        },
        {
          "metadata": {
            "tags": null
          },
          "name": "stderr",
          "output_type": "stream",
          "text": [
            "WARNING:root:Lossy conversion from float64 to uint8. Range [0, 1]. Convert image to uint8 prior to saving to suppress this warning.\n",
            "WARNING:root:Lossy conversion from float64 to uint8. Range [0, 1]. Convert image to uint8 prior to saving to suppress this warning.\n"
          ]
        },
        {
          "metadata": {
            "tags": null
          },
          "name": "stdout",
          "output_type": "stream",
          "text": [
            "Epoch: [   6/25000] d_bin_loss: 0.18338, d_mul_loss: 1.45541, d_loss: 1.63879, g_bin_loss: 5.63692, g_mul_loss: 1.62273, g_loss: 7.25966\n"
          ]
        },
        {
          "metadata": {
            "tags": null
          },
          "name": "stderr",
          "output_type": "stream",
          "text": [
            "WARNING:root:Lossy conversion from float64 to uint8. Range [0, 1]. Convert image to uint8 prior to saving to suppress this warning.\n",
            "WARNING:root:Lossy conversion from float64 to uint8. Range [0, 1]. Convert image to uint8 prior to saving to suppress this warning.\n"
          ]
        },
        {
          "metadata": {
            "tags": null
          },
          "name": "stdout",
          "output_type": "stream",
          "text": [
            "Epoch: [   7/25000] d_bin_loss: 0.11956, d_mul_loss: 1.59571, d_loss: 1.71527, g_bin_loss: 4.42148, g_mul_loss: 2.56651, g_loss: 6.98798\n"
          ]
        },
        {
          "metadata": {
            "tags": null
          },
          "name": "stderr",
          "output_type": "stream",
          "text": [
            "WARNING:root:Lossy conversion from float64 to uint8. Range [0, 1]. Convert image to uint8 prior to saving to suppress this warning.\n",
            "WARNING:root:Lossy conversion from float64 to uint8. Range [0, 1]. Convert image to uint8 prior to saving to suppress this warning.\n"
          ]
        },
        {
          "metadata": {
            "tags": null
          },
          "name": "stdout",
          "output_type": "stream",
          "text": [
            "Epoch: [   8/25000] d_bin_loss: 0.11189, d_mul_loss: 2.95064, d_loss: 3.06254, g_bin_loss: 3.17433, g_mul_loss: 3.06120, g_loss: 6.23553\n"
          ]
        },
        {
          "metadata": {
            "tags": null
          },
          "name": "stderr",
          "output_type": "stream",
          "text": [
            "WARNING:root:Lossy conversion from float64 to uint8. Range [0, 1]. Convert image to uint8 prior to saving to suppress this warning.\n",
            "WARNING:root:Lossy conversion from float64 to uint8. Range [0, 1]. Convert image to uint8 prior to saving to suppress this warning.\n"
          ]
        },
        {
          "metadata": {
            "tags": null
          },
          "name": "stdout",
          "output_type": "stream",
          "text": [
            "Epoch: [   9/25000] d_bin_loss: 0.07961, d_mul_loss: 1.58967, d_loss: 1.66928, g_bin_loss: 4.70314, g_mul_loss: 1.66765, g_loss: 6.37078\n"
          ]
        },
        {
          "metadata": {
            "tags": null
          },
          "name": "stderr",
          "output_type": "stream",
          "text": [
            "WARNING:root:Lossy conversion from float64 to uint8. Range [0, 1]. Convert image to uint8 prior to saving to suppress this warning.\n",
            "WARNING:root:Lossy conversion from float64 to uint8. Range [0, 1]. Convert image to uint8 prior to saving to suppress this warning.\n"
          ]
        },
        {
          "metadata": {
            "tags": null
          },
          "name": "stdout",
          "output_type": "stream",
          "text": [
            "Epoch: [  10/25000] d_bin_loss: 0.07673, d_mul_loss: 1.83041, d_loss: 1.90714, g_bin_loss: 3.69470, g_mul_loss: 2.76399, g_loss: 6.45868\n"
          ]
        },
        {
          "metadata": {
            "tags": null
          },
          "name": "stderr",
          "output_type": "stream",
          "text": [
            "WARNING:root:Lossy conversion from float64 to uint8. Range [0, 1]. Convert image to uint8 prior to saving to suppress this warning.\n",
            "WARNING:root:Lossy conversion from float64 to uint8. Range [0, 1]. Convert image to uint8 prior to saving to suppress this warning.\n"
          ]
        },
        {
          "metadata": {
            "tags": null
          },
          "name": "stdout",
          "output_type": "stream",
          "text": [
            "Epoch: [  11/25000] d_bin_loss: 0.05850, d_mul_loss: 2.95284, d_loss: 3.01134, g_bin_loss: 4.55736, g_mul_loss: 3.19212, g_loss: 7.74948\n"
          ]
        },
        {
          "metadata": {
            "tags": null
          },
          "name": "stderr",
          "output_type": "stream",
          "text": [
            "WARNING:root:Lossy conversion from float64 to uint8. Range [0, 1]. Convert image to uint8 prior to saving to suppress this warning.\n",
            "WARNING:root:Lossy conversion from float64 to uint8. Range [0, 1]. Convert image to uint8 prior to saving to suppress this warning.\n"
          ]
        },
        {
          "metadata": {
            "tags": null
          },
          "name": "stdout",
          "output_type": "stream",
          "text": [
            "Epoch: [  12/25000] d_bin_loss: 0.05683, d_mul_loss: 1.28291, d_loss: 1.33974, g_bin_loss: 4.32336, g_mul_loss: 1.38891, g_loss: 5.71227\n"
          ]
        },
        {
          "metadata": {
            "tags": null
          },
          "name": "stderr",
          "output_type": "stream",
          "text": [
            "WARNING:root:Lossy conversion from float64 to uint8. Range [0, 1]. Convert image to uint8 prior to saving to suppress this warning.\n",
            "WARNING:root:Lossy conversion from float64 to uint8. Range [0, 1]. Convert image to uint8 prior to saving to suppress this warning.\n"
          ]
        },
        {
          "metadata": {
            "tags": null
          },
          "name": "stdout",
          "output_type": "stream",
          "text": [
            "Epoch: [  13/25000] d_bin_loss: 0.07624, d_mul_loss: 1.43311, d_loss: 1.50935, g_bin_loss: 4.53634, g_mul_loss: 1.44676, g_loss: 5.98310\n"
          ]
        },
        {
          "metadata": {
            "tags": null
          },
          "name": "stderr",
          "output_type": "stream",
          "text": [
            "WARNING:root:Lossy conversion from float64 to uint8. Range [0, 1]. Convert image to uint8 prior to saving to suppress this warning.\n",
            "WARNING:root:Lossy conversion from float64 to uint8. Range [0, 1]. Convert image to uint8 prior to saving to suppress this warning.\n"
          ]
        },
        {
          "metadata": {
            "tags": null
          },
          "name": "stdout",
          "output_type": "stream",
          "text": [
            "Epoch: [  14/25000] d_bin_loss: 0.04735, d_mul_loss: 1.27111, d_loss: 1.31846, g_bin_loss: 4.71617, g_mul_loss: 1.73761, g_loss: 6.45378\n"
          ]
        },
        {
          "metadata": {
            "tags": null
          },
          "name": "stderr",
          "output_type": "stream",
          "text": [
            "WARNING:root:Lossy conversion from float64 to uint8. Range [0, 1]. Convert image to uint8 prior to saving to suppress this warning.\n",
            "WARNING:root:Lossy conversion from float64 to uint8. Range [0, 1]. Convert image to uint8 prior to saving to suppress this warning.\n"
          ]
        },
        {
          "metadata": {
            "tags": null
          },
          "name": "stdout",
          "output_type": "stream",
          "text": [
            "Epoch: [  15/25000] d_bin_loss: 0.05748, d_mul_loss: 1.78217, d_loss: 1.83965, g_bin_loss: 4.40277, g_mul_loss: 2.32159, g_loss: 6.72436\n"
          ]
        },
        {
          "metadata": {
            "tags": null
          },
          "name": "stderr",
          "output_type": "stream",
          "text": [
            "WARNING:root:Lossy conversion from float64 to uint8. Range [0, 1]. Convert image to uint8 prior to saving to suppress this warning.\n",
            "WARNING:root:Lossy conversion from float64 to uint8. Range [0, 1]. Convert image to uint8 prior to saving to suppress this warning.\n"
          ]
        },
        {
          "metadata": {
            "tags": null
          },
          "name": "stdout",
          "output_type": "stream",
          "text": [
            "Epoch: [  16/25000] d_bin_loss: 0.09463, d_mul_loss: 1.68400, d_loss: 1.77863, g_bin_loss: 5.51681, g_mul_loss: 2.96930, g_loss: 8.48611\n"
          ]
        },
        {
          "metadata": {
            "tags": null
          },
          "name": "stderr",
          "output_type": "stream",
          "text": [
            "WARNING:root:Lossy conversion from float64 to uint8. Range [0, 1]. Convert image to uint8 prior to saving to suppress this warning.\n",
            "WARNING:root:Lossy conversion from float64 to uint8. Range [0, 1]. Convert image to uint8 prior to saving to suppress this warning.\n"
          ]
        },
        {
          "metadata": {
            "tags": null
          },
          "name": "stdout",
          "output_type": "stream",
          "text": [
            "Epoch: [  17/25000] d_bin_loss: 0.08598, d_mul_loss: 1.73416, d_loss: 1.82014, g_bin_loss: 4.42825, g_mul_loss: 3.79846, g_loss: 8.22672\n"
          ]
        },
        {
          "metadata": {
            "tags": null
          },
          "name": "stderr",
          "output_type": "stream",
          "text": [
            "WARNING:root:Lossy conversion from float64 to uint8. Range [0, 1]. Convert image to uint8 prior to saving to suppress this warning.\n",
            "WARNING:root:Lossy conversion from float64 to uint8. Range [0, 1]. Convert image to uint8 prior to saving to suppress this warning.\n"
          ]
        },
        {
          "metadata": {
            "tags": null
          },
          "name": "stdout",
          "output_type": "stream",
          "text": [
            "Epoch: [  18/25000] d_bin_loss: 0.03997, d_mul_loss: 1.34487, d_loss: 1.38484, g_bin_loss: 4.78229, g_mul_loss: 1.25726, g_loss: 6.03954\n"
          ]
        },
        {
          "metadata": {
            "tags": null
          },
          "name": "stderr",
          "output_type": "stream",
          "text": [
            "WARNING:root:Lossy conversion from float64 to uint8. Range [0, 1]. Convert image to uint8 prior to saving to suppress this warning.\n",
            "WARNING:root:Lossy conversion from float64 to uint8. Range [0, 1]. Convert image to uint8 prior to saving to suppress this warning.\n"
          ]
        },
        {
          "metadata": {
            "tags": null
          },
          "name": "stdout",
          "output_type": "stream",
          "text": [
            "Epoch: [  19/25000] d_bin_loss: 0.05073, d_mul_loss: 1.28978, d_loss: 1.34051, g_bin_loss: 4.45041, g_mul_loss: 1.52254, g_loss: 5.97295\n"
          ]
        },
        {
          "metadata": {
            "tags": null
          },
          "name": "stderr",
          "output_type": "stream",
          "text": [
            "WARNING:root:Lossy conversion from float64 to uint8. Range [0, 1]. Convert image to uint8 prior to saving to suppress this warning.\n",
            "WARNING:root:Lossy conversion from float64 to uint8. Range [0, 1]. Convert image to uint8 prior to saving to suppress this warning.\n"
          ]
        },
        {
          "metadata": {
            "tags": null
          },
          "name": "stdout",
          "output_type": "stream",
          "text": [
            "Epoch: [  20/25000] d_bin_loss: 0.04444, d_mul_loss: 1.30944, d_loss: 1.35388, g_bin_loss: 4.73445, g_mul_loss: 2.04156, g_loss: 6.77601\n"
          ]
        },
        {
          "metadata": {
            "tags": null
          },
          "name": "stderr",
          "output_type": "stream",
          "text": [
            "WARNING:root:Lossy conversion from float64 to uint8. Range [0, 1]. Convert image to uint8 prior to saving to suppress this warning.\n",
            "WARNING:root:Lossy conversion from float64 to uint8. Range [0, 1]. Convert image to uint8 prior to saving to suppress this warning.\n"
          ]
        },
        {
          "metadata": {
            "tags": null
          },
          "name": "stdout",
          "output_type": "stream",
          "text": [
            "Epoch: [  21/25000] d_bin_loss: 0.05216, d_mul_loss: 1.24420, d_loss: 1.29637, g_bin_loss: 4.66977, g_mul_loss: 1.45817, g_loss: 6.12794\n"
          ]
        },
        {
          "metadata": {
            "tags": null
          },
          "name": "stderr",
          "output_type": "stream",
          "text": [
            "WARNING:root:Lossy conversion from float64 to uint8. Range [0, 1]. Convert image to uint8 prior to saving to suppress this warning.\n",
            "WARNING:root:Lossy conversion from float64 to uint8. Range [0, 1]. Convert image to uint8 prior to saving to suppress this warning.\n"
          ]
        },
        {
          "metadata": {
            "tags": null
          },
          "name": "stdout",
          "output_type": "stream",
          "text": [
            "Epoch: [  22/25000] d_bin_loss: 0.13430, d_mul_loss: 1.16420, d_loss: 1.29850, g_bin_loss: 4.43375, g_mul_loss: 1.14603, g_loss: 5.57978\n"
          ]
        },
        {
          "metadata": {
            "tags": null
          },
          "name": "stderr",
          "output_type": "stream",
          "text": [
            "WARNING:root:Lossy conversion from float64 to uint8. Range [0, 1]. Convert image to uint8 prior to saving to suppress this warning.\n",
            "WARNING:root:Lossy conversion from float64 to uint8. Range [0, 1]. Convert image to uint8 prior to saving to suppress this warning.\n"
          ]
        },
        {
          "metadata": {
            "tags": null
          },
          "name": "stdout",
          "output_type": "stream",
          "text": [
            "Epoch: [  23/25000] d_bin_loss: 0.36324, d_mul_loss: 1.18103, d_loss: 1.54427, g_bin_loss: 7.02535, g_mul_loss: 1.27381, g_loss: 8.29917\n"
          ]
        },
        {
          "metadata": {
            "tags": null
          },
          "name": "stderr",
          "output_type": "stream",
          "text": [
            "WARNING:root:Lossy conversion from float64 to uint8. Range [0, 1]. Convert image to uint8 prior to saving to suppress this warning.\n",
            "WARNING:root:Lossy conversion from float64 to uint8. Range [0, 1]. Convert image to uint8 prior to saving to suppress this warning.\n"
          ]
        },
        {
          "metadata": {
            "tags": null
          },
          "name": "stdout",
          "output_type": "stream",
          "text": [
            "Epoch: [  24/25000] d_bin_loss: 0.35937, d_mul_loss: 1.16444, d_loss: 1.52381, g_bin_loss: 4.80668, g_mul_loss: 1.28150, g_loss: 6.08818\n"
          ]
        },
        {
          "metadata": {
            "tags": null
          },
          "name": "stderr",
          "output_type": "stream",
          "text": [
            "WARNING:root:Lossy conversion from float64 to uint8. Range [0, 1]. Convert image to uint8 prior to saving to suppress this warning.\n",
            "WARNING:root:Lossy conversion from float64 to uint8. Range [0, 1]. Convert image to uint8 prior to saving to suppress this warning.\n"
          ]
        },
        {
          "metadata": {
            "tags": null
          },
          "name": "stdout",
          "output_type": "stream",
          "text": [
            "Epoch: [  25/25000] d_bin_loss: 0.58682, d_mul_loss: 0.98811, d_loss: 1.57493, g_bin_loss: 10.02387, g_mul_loss: 1.03674, g_loss: 11.06062\n"
          ]
        },
        {
          "metadata": {
            "tags": null
          },
          "name": "stderr",
          "output_type": "stream",
          "text": [
            "WARNING:root:Lossy conversion from float64 to uint8. Range [0, 1]. Convert image to uint8 prior to saving to suppress this warning.\n",
            "WARNING:root:Lossy conversion from float64 to uint8. Range [0, 1]. Convert image to uint8 prior to saving to suppress this warning.\n"
          ]
        },
        {
          "metadata": {
            "tags": null
          },
          "name": "stdout",
          "output_type": "stream",
          "text": [
            "Epoch: [  26/25000] d_bin_loss: 0.11294, d_mul_loss: 0.81202, d_loss: 0.92496, g_bin_loss: 4.31289, g_mul_loss: 0.75938, g_loss: 5.07226\n"
          ]
        },
        {
          "metadata": {
            "tags": null
          },
          "name": "stderr",
          "output_type": "stream",
          "text": [
            "WARNING:root:Lossy conversion from float64 to uint8. Range [0, 1]. Convert image to uint8 prior to saving to suppress this warning.\n",
            "WARNING:root:Lossy conversion from float64 to uint8. Range [0, 1]. Convert image to uint8 prior to saving to suppress this warning.\n"
          ]
        },
        {
          "metadata": {
            "tags": null
          },
          "name": "stdout",
          "output_type": "stream",
          "text": [
            "Epoch: [  27/25000] d_bin_loss: 0.13964, d_mul_loss: 0.86074, d_loss: 1.00038, g_bin_loss: 5.73975, g_mul_loss: 1.06846, g_loss: 6.80821\n"
          ]
        },
        {
          "metadata": {
            "tags": null
          },
          "name": "stderr",
          "output_type": "stream",
          "text": [
            "WARNING:root:Lossy conversion from float64 to uint8. Range [0, 1]. Convert image to uint8 prior to saving to suppress this warning.\n",
            "WARNING:root:Lossy conversion from float64 to uint8. Range [0, 1]. Convert image to uint8 prior to saving to suppress this warning.\n"
          ]
        },
        {
          "metadata": {
            "tags": null
          },
          "name": "stdout",
          "output_type": "stream",
          "text": [
            "Epoch: [  28/25000] d_bin_loss: 0.08834, d_mul_loss: 0.82249, d_loss: 0.91084, g_bin_loss: 4.72666, g_mul_loss: 1.09652, g_loss: 5.82318\n"
          ]
        },
        {
          "metadata": {
            "tags": null
          },
          "name": "stderr",
          "output_type": "stream",
          "text": [
            "WARNING:root:Lossy conversion from float64 to uint8. Range [0, 1]. Convert image to uint8 prior to saving to suppress this warning.\n",
            "WARNING:root:Lossy conversion from float64 to uint8. Range [0, 1]. Convert image to uint8 prior to saving to suppress this warning.\n"
          ]
        },
        {
          "metadata": {
            "tags": null
          },
          "name": "stdout",
          "output_type": "stream",
          "text": [
            "Epoch: [  29/25000] d_bin_loss: 0.05523, d_mul_loss: 0.80337, d_loss: 0.85860, g_bin_loss: 5.03539, g_mul_loss: 0.98914, g_loss: 6.02453\n"
          ]
        },
        {
          "metadata": {
            "tags": null
          },
          "name": "stderr",
          "output_type": "stream",
          "text": [
            "WARNING:root:Lossy conversion from float64 to uint8. Range [0, 1]. Convert image to uint8 prior to saving to suppress this warning.\n",
            "WARNING:root:Lossy conversion from float64 to uint8. Range [0, 1]. Convert image to uint8 prior to saving to suppress this warning.\n"
          ]
        },
        {
          "metadata": {
            "tags": null
          },
          "name": "stdout",
          "output_type": "stream",
          "text": [
            "Epoch: [  30/25000] d_bin_loss: 0.07134, d_mul_loss: 0.43474, d_loss: 0.50608, g_bin_loss: 5.01946, g_mul_loss: 0.40520, g_loss: 5.42465\n"
          ]
        },
        {
          "metadata": {
            "tags": null
          },
          "name": "stderr",
          "output_type": "stream",
          "text": [
            "WARNING:root:Lossy conversion from float64 to uint8. Range [0, 1]. Convert image to uint8 prior to saving to suppress this warning.\n",
            "WARNING:root:Lossy conversion from float64 to uint8. Range [0, 1]. Convert image to uint8 prior to saving to suppress this warning.\n"
          ]
        },
        {
          "metadata": {
            "tags": null
          },
          "name": "stdout",
          "output_type": "stream",
          "text": [
            "Epoch: [  31/25000] d_bin_loss: 0.43991, d_mul_loss: 0.66308, d_loss: 1.10299, g_bin_loss: 8.17414, g_mul_loss: 0.52668, g_loss: 8.70082\n"
          ]
        },
        {
          "metadata": {
            "tags": null
          },
          "name": "stderr",
          "output_type": "stream",
          "text": [
            "WARNING:root:Lossy conversion from float64 to uint8. Range [0, 1]. Convert image to uint8 prior to saving to suppress this warning.\n",
            "WARNING:root:Lossy conversion from float64 to uint8. Range [0, 1]. Convert image to uint8 prior to saving to suppress this warning.\n"
          ]
        },
        {
          "metadata": {
            "tags": null
          },
          "name": "stdout",
          "output_type": "stream",
          "text": [
            "Epoch: [  32/25000] d_bin_loss: 0.28266, d_mul_loss: 0.64176, d_loss: 0.92442, g_bin_loss: 6.30076, g_mul_loss: 0.47800, g_loss: 6.77876\n"
          ]
        },
        {
          "metadata": {
            "tags": null
          },
          "name": "stderr",
          "output_type": "stream",
          "text": [
            "WARNING:root:Lossy conversion from float64 to uint8. Range [0, 1]. Convert image to uint8 prior to saving to suppress this warning.\n",
            "WARNING:root:Lossy conversion from float64 to uint8. Range [0, 1]. Convert image to uint8 prior to saving to suppress this warning.\n"
          ]
        },
        {
          "metadata": {
            "tags": null
          },
          "name": "stdout",
          "output_type": "stream",
          "text": [
            "Epoch: [  33/25000] d_bin_loss: 0.19717, d_mul_loss: 0.40031, d_loss: 0.59748, g_bin_loss: 4.83196, g_mul_loss: 0.36044, g_loss: 5.19240\n"
          ]
        },
        {
          "metadata": {
            "tags": null
          },
          "name": "stderr",
          "output_type": "stream",
          "text": [
            "WARNING:root:Lossy conversion from float64 to uint8. Range [0, 1]. Convert image to uint8 prior to saving to suppress this warning.\n",
            "WARNING:root:Lossy conversion from float64 to uint8. Range [0, 1]. Convert image to uint8 prior to saving to suppress this warning.\n"
          ]
        },
        {
          "metadata": {
            "tags": null
          },
          "name": "stdout",
          "output_type": "stream",
          "text": [
            "Epoch: [  34/25000] d_bin_loss: 0.20775, d_mul_loss: 0.31448, d_loss: 0.52223, g_bin_loss: 4.93255, g_mul_loss: 0.30628, g_loss: 5.23883\n"
          ]
        },
        {
          "metadata": {
            "tags": null
          },
          "name": "stderr",
          "output_type": "stream",
          "text": [
            "WARNING:root:Lossy conversion from float64 to uint8. Range [0, 1]. Convert image to uint8 prior to saving to suppress this warning.\n",
            "WARNING:root:Lossy conversion from float64 to uint8. Range [0, 1]. Convert image to uint8 prior to saving to suppress this warning.\n"
          ]
        },
        {
          "metadata": {
            "tags": null
          },
          "name": "stdout",
          "output_type": "stream",
          "text": [
            "Epoch: [  35/25000] d_bin_loss: 0.22488, d_mul_loss: 0.29854, d_loss: 0.52342, g_bin_loss: 7.08455, g_mul_loss: 0.27583, g_loss: 7.36038\n"
          ]
        },
        {
          "metadata": {
            "tags": null
          },
          "name": "stderr",
          "output_type": "stream",
          "text": [
            "WARNING:root:Lossy conversion from float64 to uint8. Range [0, 1]. Convert image to uint8 prior to saving to suppress this warning.\n",
            "WARNING:root:Lossy conversion from float64 to uint8. Range [0, 1]. Convert image to uint8 prior to saving to suppress this warning.\n"
          ]
        },
        {
          "metadata": {
            "tags": null
          },
          "name": "stdout",
          "output_type": "stream",
          "text": [
            "Epoch: [  36/25000] d_bin_loss: 0.47162, d_mul_loss: 0.51592, d_loss: 0.98754, g_bin_loss: 13.80983, g_mul_loss: 0.78388, g_loss: 14.59371\n"
          ]
        },
        {
          "metadata": {
            "tags": null
          },
          "name": "stderr",
          "output_type": "stream",
          "text": [
            "WARNING:root:Lossy conversion from float64 to uint8. Range [0, 1]. Convert image to uint8 prior to saving to suppress this warning.\n",
            "WARNING:root:Lossy conversion from float64 to uint8. Range [0, 1]. Convert image to uint8 prior to saving to suppress this warning.\n"
          ]
        },
        {
          "metadata": {
            "tags": null
          },
          "name": "stdout",
          "output_type": "stream",
          "text": [
            "Epoch: [  37/25000] d_bin_loss: 0.21152, d_mul_loss: 0.19293, d_loss: 0.40445, g_bin_loss: 6.40707, g_mul_loss: 0.18403, g_loss: 6.59110\n"
          ]
        },
        {
          "metadata": {
            "tags": null
          },
          "name": "stderr",
          "output_type": "stream",
          "text": [
            "WARNING:root:Lossy conversion from float64 to uint8. Range [0, 1]. Convert image to uint8 prior to saving to suppress this warning.\n",
            "WARNING:root:Lossy conversion from float64 to uint8. Range [0, 1]. Convert image to uint8 prior to saving to suppress this warning.\n"
          ]
        },
        {
          "metadata": {
            "tags": null
          },
          "name": "stdout",
          "output_type": "stream",
          "text": [
            "Epoch: [  38/25000] d_bin_loss: 0.16431, d_mul_loss: 0.16620, d_loss: 0.33051, g_bin_loss: 5.71734, g_mul_loss: 0.12427, g_loss: 5.84161\n"
          ]
        },
        {
          "metadata": {
            "tags": null
          },
          "name": "stderr",
          "output_type": "stream",
          "text": [
            "WARNING:root:Lossy conversion from float64 to uint8. Range [0, 1]. Convert image to uint8 prior to saving to suppress this warning.\n",
            "WARNING:root:Lossy conversion from float64 to uint8. Range [0, 1]. Convert image to uint8 prior to saving to suppress this warning.\n"
          ]
        },
        {
          "metadata": {
            "tags": null
          },
          "name": "stdout",
          "output_type": "stream",
          "text": [
            "Epoch: [  39/25000] d_bin_loss: 0.13640, d_mul_loss: 0.11132, d_loss: 0.24772, g_bin_loss: 4.95484, g_mul_loss: 0.09857, g_loss: 5.05341\n"
          ]
        },
        {
          "metadata": {
            "tags": null
          },
          "name": "stderr",
          "output_type": "stream",
          "text": [
            "WARNING:root:Lossy conversion from float64 to uint8. Range [0, 1]. Convert image to uint8 prior to saving to suppress this warning.\n",
            "WARNING:root:Lossy conversion from float64 to uint8. Range [0, 1]. Convert image to uint8 prior to saving to suppress this warning.\n"
          ]
        },
        {
          "metadata": {
            "tags": null
          },
          "name": "stdout",
          "output_type": "stream",
          "text": [
            "Epoch: [  40/25000] d_bin_loss: 0.43692, d_mul_loss: 0.16328, d_loss: 0.60021, g_bin_loss: 9.79132, g_mul_loss: 0.12240, g_loss: 9.91372\n"
          ]
        },
        {
          "metadata": {
            "tags": null
          },
          "name": "stderr",
          "output_type": "stream",
          "text": [
            "WARNING:root:Lossy conversion from float64 to uint8. Range [0, 1]. Convert image to uint8 prior to saving to suppress this warning.\n",
            "WARNING:root:Lossy conversion from float64 to uint8. Range [0, 1]. Convert image to uint8 prior to saving to suppress this warning.\n"
          ]
        },
        {
          "metadata": {
            "tags": null
          },
          "name": "stdout",
          "output_type": "stream",
          "text": [
            "Epoch: [  41/25000] d_bin_loss: 0.05122, d_mul_loss: 0.11443, d_loss: 0.16565, g_bin_loss: 6.00768, g_mul_loss: 0.10415, g_loss: 6.11183\n"
          ]
        },
        {
          "metadata": {
            "tags": null
          },
          "name": "stderr",
          "output_type": "stream",
          "text": [
            "WARNING:root:Lossy conversion from float64 to uint8. Range [0, 1]. Convert image to uint8 prior to saving to suppress this warning.\n",
            "WARNING:root:Lossy conversion from float64 to uint8. Range [0, 1]. Convert image to uint8 prior to saving to suppress this warning.\n"
          ]
        },
        {
          "metadata": {
            "tags": null
          },
          "name": "stdout",
          "output_type": "stream",
          "text": [
            "Epoch: [  42/25000] d_bin_loss: 0.21764, d_mul_loss: 0.09688, d_loss: 0.31452, g_bin_loss: 7.11719, g_mul_loss: 0.08104, g_loss: 7.19824\n"
          ]
        },
        {
          "metadata": {
            "tags": null
          },
          "name": "stderr",
          "output_type": "stream",
          "text": [
            "WARNING:root:Lossy conversion from float64 to uint8. Range [0, 1]. Convert image to uint8 prior to saving to suppress this warning.\n",
            "WARNING:root:Lossy conversion from float64 to uint8. Range [0, 1]. Convert image to uint8 prior to saving to suppress this warning.\n"
          ]
        },
        {
          "metadata": {
            "tags": null
          },
          "name": "stdout",
          "output_type": "stream",
          "text": [
            "Epoch: [  43/25000] d_bin_loss: 0.18792, d_mul_loss: 0.10834, d_loss: 0.29625, g_bin_loss: 10.68045, g_mul_loss: 0.08952, g_loss: 10.76997\n"
          ]
        },
        {
          "metadata": {
            "tags": null
          },
          "name": "stderr",
          "output_type": "stream",
          "text": [
            "WARNING:root:Lossy conversion from float64 to uint8. Range [0, 1]. Convert image to uint8 prior to saving to suppress this warning.\n",
            "WARNING:root:Lossy conversion from float64 to uint8. Range [0, 1]. Convert image to uint8 prior to saving to suppress this warning.\n"
          ]
        },
        {
          "metadata": {
            "tags": null
          },
          "name": "stdout",
          "output_type": "stream",
          "text": [
            "Epoch: [  44/25000] d_bin_loss: 0.16582, d_mul_loss: 0.09243, d_loss: 0.25825, g_bin_loss: 6.24359, g_mul_loss: 0.08671, g_loss: 6.33031\n"
          ]
        },
        {
          "metadata": {
            "tags": null
          },
          "name": "stderr",
          "output_type": "stream",
          "text": [
            "WARNING:root:Lossy conversion from float64 to uint8. Range [0, 1]. Convert image to uint8 prior to saving to suppress this warning.\n",
            "WARNING:root:Lossy conversion from float64 to uint8. Range [0, 1]. Convert image to uint8 prior to saving to suppress this warning.\n"
          ]
        },
        {
          "metadata": {
            "tags": null
          },
          "name": "stdout",
          "output_type": "stream",
          "text": [
            "Epoch: [  45/25000] d_bin_loss: 0.68238, d_mul_loss: 0.16709, d_loss: 0.84947, g_bin_loss: 10.21127, g_mul_loss: 0.29551, g_loss: 10.50678\n"
          ]
        },
        {
          "metadata": {
            "tags": null
          },
          "name": "stderr",
          "output_type": "stream",
          "text": [
            "WARNING:root:Lossy conversion from float64 to uint8. Range [0, 1]. Convert image to uint8 prior to saving to suppress this warning.\n",
            "WARNING:root:Lossy conversion from float64 to uint8. Range [0, 1]. Convert image to uint8 prior to saving to suppress this warning.\n"
          ]
        },
        {
          "metadata": {
            "tags": null
          },
          "name": "stdout",
          "output_type": "stream",
          "text": [
            "Epoch: [  46/25000] d_bin_loss: 0.02762, d_mul_loss: 0.10163, d_loss: 0.12925, g_bin_loss: 6.18325, g_mul_loss: 0.08378, g_loss: 6.26702\n"
          ]
        },
        {
          "metadata": {
            "tags": null
          },
          "name": "stderr",
          "output_type": "stream",
          "text": [
            "WARNING:root:Lossy conversion from float64 to uint8. Range [0, 1]. Convert image to uint8 prior to saving to suppress this warning.\n",
            "WARNING:root:Lossy conversion from float64 to uint8. Range [0, 1]. Convert image to uint8 prior to saving to suppress this warning.\n"
          ]
        },
        {
          "metadata": {
            "tags": null
          },
          "name": "stdout",
          "output_type": "stream",
          "text": [
            "Epoch: [  47/25000] d_bin_loss: 0.07870, d_mul_loss: 0.13819, d_loss: 0.21689, g_bin_loss: 4.95273, g_mul_loss: 0.11935, g_loss: 5.07208\n"
          ]
        },
        {
          "metadata": {
            "tags": null
          },
          "name": "stderr",
          "output_type": "stream",
          "text": [
            "WARNING:root:Lossy conversion from float64 to uint8. Range [0, 1]. Convert image to uint8 prior to saving to suppress this warning.\n",
            "WARNING:root:Lossy conversion from float64 to uint8. Range [0, 1]. Convert image to uint8 prior to saving to suppress this warning.\n"
          ]
        },
        {
          "metadata": {
            "tags": null
          },
          "name": "stdout",
          "output_type": "stream",
          "text": [
            "Epoch: [  48/25000] d_bin_loss: 0.04629, d_mul_loss: 0.08495, d_loss: 0.13124, g_bin_loss: 2.80586, g_mul_loss: 0.07392, g_loss: 2.87978\n"
          ]
        },
        {
          "metadata": {
            "tags": null
          },
          "name": "stderr",
          "output_type": "stream",
          "text": [
            "WARNING:root:Lossy conversion from float64 to uint8. Range [0, 1]. Convert image to uint8 prior to saving to suppress this warning.\n",
            "WARNING:root:Lossy conversion from float64 to uint8. Range [0, 1]. Convert image to uint8 prior to saving to suppress this warning.\n"
          ]
        },
        {
          "metadata": {
            "tags": null
          },
          "name": "stdout",
          "output_type": "stream",
          "text": [
            "Epoch: [  49/25000] d_bin_loss: 0.10988, d_mul_loss: 0.07434, d_loss: 0.18423, g_bin_loss: 5.00585, g_mul_loss: 0.06407, g_loss: 5.06992\n"
          ]
        },
        {
          "metadata": {
            "tags": null
          },
          "name": "stderr",
          "output_type": "stream",
          "text": [
            "WARNING:root:Lossy conversion from float64 to uint8. Range [0, 1]. Convert image to uint8 prior to saving to suppress this warning.\n",
            "WARNING:root:Lossy conversion from float64 to uint8. Range [0, 1]. Convert image to uint8 prior to saving to suppress this warning.\n"
          ]
        },
        {
          "metadata": {
            "tags": null
          },
          "name": "stdout",
          "output_type": "stream",
          "text": [
            "Epoch: [  50/25000] d_bin_loss: 0.34418, d_mul_loss: 0.12364, d_loss: 0.46782, g_bin_loss: 3.85773, g_mul_loss: 0.08365, g_loss: 3.94138\n"
          ]
        },
        {
          "metadata": {
            "tags": null
          },
          "name": "stderr",
          "output_type": "stream",
          "text": [
            "WARNING:root:Lossy conversion from float64 to uint8. Range [0, 1]. Convert image to uint8 prior to saving to suppress this warning.\n",
            "WARNING:root:Lossy conversion from float64 to uint8. Range [0, 1]. Convert image to uint8 prior to saving to suppress this warning.\n"
          ]
        },
        {
          "metadata": {
            "tags": null
          },
          "name": "stdout",
          "output_type": "stream",
          "text": [
            "Epoch: [  51/25000] d_bin_loss: 0.23262, d_mul_loss: 0.22016, d_loss: 0.45278, g_bin_loss: 7.10366, g_mul_loss: 0.08302, g_loss: 7.18668\n"
          ]
        },
        {
          "metadata": {
            "tags": null
          },
          "name": "stderr",
          "output_type": "stream",
          "text": [
            "WARNING:root:Lossy conversion from float64 to uint8. Range [0, 1]. Convert image to uint8 prior to saving to suppress this warning.\n",
            "WARNING:root:Lossy conversion from float64 to uint8. Range [0, 1]. Convert image to uint8 prior to saving to suppress this warning.\n"
          ]
        },
        {
          "metadata": {
            "tags": null
          },
          "name": "stdout",
          "output_type": "stream",
          "text": [
            "Epoch: [  52/25000] d_bin_loss: 0.95784, d_mul_loss: 0.17223, d_loss: 1.13007, g_bin_loss: 8.78227, g_mul_loss: 0.16303, g_loss: 8.94529\n"
          ]
        },
        {
          "metadata": {
            "tags": null
          },
          "name": "stderr",
          "output_type": "stream",
          "text": [
            "WARNING:root:Lossy conversion from float64 to uint8. Range [0, 1]. Convert image to uint8 prior to saving to suppress this warning.\n",
            "WARNING:root:Lossy conversion from float64 to uint8. Range [0, 1]. Convert image to uint8 prior to saving to suppress this warning.\n"
          ]
        },
        {
          "metadata": {
            "tags": null
          },
          "name": "stdout",
          "output_type": "stream",
          "text": [
            "Epoch: [  53/25000] d_bin_loss: 0.24236, d_mul_loss: 0.10878, d_loss: 0.35114, g_bin_loss: 6.33156, g_mul_loss: 0.09575, g_loss: 6.42731\n"
          ]
        },
        {
          "metadata": {
            "tags": null
          },
          "name": "stderr",
          "output_type": "stream",
          "text": [
            "WARNING:root:Lossy conversion from float64 to uint8. Range [0, 1]. Convert image to uint8 prior to saving to suppress this warning.\n",
            "WARNING:root:Lossy conversion from float64 to uint8. Range [0, 1]. Convert image to uint8 prior to saving to suppress this warning.\n"
          ]
        },
        {
          "metadata": {
            "tags": null
          },
          "name": "stdout",
          "output_type": "stream",
          "text": [
            "Epoch: [  54/25000] d_bin_loss: 1.04094, d_mul_loss: 0.09923, d_loss: 1.14017, g_bin_loss: 2.36974, g_mul_loss: 0.09598, g_loss: 2.46572\n"
          ]
        },
        {
          "metadata": {
            "tags": null
          },
          "name": "stderr",
          "output_type": "stream",
          "text": [
            "WARNING:root:Lossy conversion from float64 to uint8. Range [0, 1]. Convert image to uint8 prior to saving to suppress this warning.\n",
            "WARNING:root:Lossy conversion from float64 to uint8. Range [0, 1]. Convert image to uint8 prior to saving to suppress this warning.\n"
          ]
        },
        {
          "metadata": {
            "tags": null
          },
          "name": "stdout",
          "output_type": "stream",
          "text": [
            "Epoch: [  55/25000] d_bin_loss: 0.76480, d_mul_loss: 0.09373, d_loss: 0.85853, g_bin_loss: 4.94481, g_mul_loss: 0.07071, g_loss: 5.01551\n"
          ]
        },
        {
          "metadata": {
            "tags": null
          },
          "name": "stderr",
          "output_type": "stream",
          "text": [
            "WARNING:root:Lossy conversion from float64 to uint8. Range [0, 1]. Convert image to uint8 prior to saving to suppress this warning.\n",
            "WARNING:root:Lossy conversion from float64 to uint8. Range [0, 1]. Convert image to uint8 prior to saving to suppress this warning.\n"
          ]
        },
        {
          "metadata": {
            "tags": null
          },
          "name": "stdout",
          "output_type": "stream",
          "text": [
            "Epoch: [  56/25000] d_bin_loss: 0.74127, d_mul_loss: 0.09648, d_loss: 0.83775, g_bin_loss: 7.27531, g_mul_loss: 0.08153, g_loss: 7.35684\n"
          ]
        },
        {
          "metadata": {
            "tags": null
          },
          "name": "stderr",
          "output_type": "stream",
          "text": [
            "WARNING:root:Lossy conversion from float64 to uint8. Range [0, 1]. Convert image to uint8 prior to saving to suppress this warning.\n",
            "WARNING:root:Lossy conversion from float64 to uint8. Range [0, 1]. Convert image to uint8 prior to saving to suppress this warning.\n"
          ]
        },
        {
          "metadata": {
            "tags": null
          },
          "name": "stdout",
          "output_type": "stream",
          "text": [
            "Epoch: [  57/25000] d_bin_loss: 0.68303, d_mul_loss: 0.03859, d_loss: 0.72162, g_bin_loss: 4.08581, g_mul_loss: 0.03432, g_loss: 4.12014\n"
          ]
        },
        {
          "metadata": {
            "tags": null
          },
          "name": "stderr",
          "output_type": "stream",
          "text": [
            "WARNING:root:Lossy conversion from float64 to uint8. Range [0, 1]. Convert image to uint8 prior to saving to suppress this warning.\n",
            "WARNING:root:Lossy conversion from float64 to uint8. Range [0, 1]. Convert image to uint8 prior to saving to suppress this warning.\n"
          ]
        },
        {
          "metadata": {
            "tags": null
          },
          "name": "stdout",
          "output_type": "stream",
          "text": [
            "Epoch: [  58/25000] d_bin_loss: 0.31031, d_mul_loss: 0.03186, d_loss: 0.34217, g_bin_loss: 3.37045, g_mul_loss: 0.02855, g_loss: 3.39900\n"
          ]
        },
        {
          "metadata": {
            "tags": null
          },
          "name": "stderr",
          "output_type": "stream",
          "text": [
            "WARNING:root:Lossy conversion from float64 to uint8. Range [0, 1]. Convert image to uint8 prior to saving to suppress this warning.\n",
            "WARNING:root:Lossy conversion from float64 to uint8. Range [0, 1]. Convert image to uint8 prior to saving to suppress this warning.\n"
          ]
        },
        {
          "metadata": {
            "tags": null
          },
          "name": "stdout",
          "output_type": "stream",
          "text": [
            "Epoch: [  59/25000] d_bin_loss: 0.29960, d_mul_loss: 0.02476, d_loss: 0.32436, g_bin_loss: 5.19016, g_mul_loss: 0.02346, g_loss: 5.21362\n"
          ]
        },
        {
          "metadata": {
            "tags": null
          },
          "name": "stderr",
          "output_type": "stream",
          "text": [
            "WARNING:root:Lossy conversion from float64 to uint8. Range [0, 1]. Convert image to uint8 prior to saving to suppress this warning.\n",
            "WARNING:root:Lossy conversion from float64 to uint8. Range [0, 1]. Convert image to uint8 prior to saving to suppress this warning.\n"
          ]
        },
        {
          "metadata": {
            "tags": null
          },
          "name": "stdout",
          "output_type": "stream",
          "text": [
            "Epoch: [  60/25000] d_bin_loss: 0.95038, d_mul_loss: 0.03006, d_loss: 0.98044, g_bin_loss: 6.43235, g_mul_loss: 0.03006, g_loss: 6.46242\n"
          ]
        },
        {
          "metadata": {
            "tags": null
          },
          "name": "stderr",
          "output_type": "stream",
          "text": [
            "WARNING:root:Lossy conversion from float64 to uint8. Range [0, 1]. Convert image to uint8 prior to saving to suppress this warning.\n",
            "WARNING:root:Lossy conversion from float64 to uint8. Range [0, 1]. Convert image to uint8 prior to saving to suppress this warning.\n"
          ]
        },
        {
          "metadata": {
            "tags": null
          },
          "name": "stdout",
          "output_type": "stream",
          "text": [
            "Epoch: [  61/25000] d_bin_loss: 0.74336, d_mul_loss: 0.03386, d_loss: 0.77721, g_bin_loss: 2.97172, g_mul_loss: 0.02287, g_loss: 2.99459\n"
          ]
        },
        {
          "metadata": {
            "tags": null
          },
          "name": "stderr",
          "output_type": "stream",
          "text": [
            "WARNING:root:Lossy conversion from float64 to uint8. Range [0, 1]. Convert image to uint8 prior to saving to suppress this warning.\n",
            "WARNING:root:Lossy conversion from float64 to uint8. Range [0, 1]. Convert image to uint8 prior to saving to suppress this warning.\n"
          ]
        },
        {
          "metadata": {
            "tags": null
          },
          "name": "stdout",
          "output_type": "stream",
          "text": [
            "Epoch: [  62/25000] d_bin_loss: 0.32125, d_mul_loss: 0.02906, d_loss: 0.35031, g_bin_loss: 4.56380, g_mul_loss: 0.02157, g_loss: 4.58537\n"
          ]
        },
        {
          "metadata": {
            "tags": null
          },
          "name": "stderr",
          "output_type": "stream",
          "text": [
            "WARNING:root:Lossy conversion from float64 to uint8. Range [0, 1]. Convert image to uint8 prior to saving to suppress this warning.\n",
            "WARNING:root:Lossy conversion from float64 to uint8. Range [0, 1]. Convert image to uint8 prior to saving to suppress this warning.\n"
          ]
        },
        {
          "metadata": {
            "tags": null
          },
          "name": "stdout",
          "output_type": "stream",
          "text": [
            "Epoch: [  63/25000] d_bin_loss: 2.15714, d_mul_loss: 0.04728, d_loss: 2.20442, g_bin_loss: 10.77771, g_mul_loss: 0.04393, g_loss: 10.82165\n"
          ]
        },
        {
          "metadata": {
            "tags": null
          },
          "name": "stderr",
          "output_type": "stream",
          "text": [
            "WARNING:root:Lossy conversion from float64 to uint8. Range [0, 1]. Convert image to uint8 prior to saving to suppress this warning.\n",
            "WARNING:root:Lossy conversion from float64 to uint8. Range [0, 1]. Convert image to uint8 prior to saving to suppress this warning.\n"
          ]
        },
        {
          "metadata": {
            "tags": null
          },
          "name": "stdout",
          "output_type": "stream",
          "text": [
            "Epoch: [  64/25000] d_bin_loss: 0.63351, d_mul_loss: 0.02971, d_loss: 0.66322, g_bin_loss: 4.20884, g_mul_loss: 0.02618, g_loss: 4.23502\n"
          ]
        },
        {
          "metadata": {
            "tags": null
          },
          "name": "stderr",
          "output_type": "stream",
          "text": [
            "WARNING:root:Lossy conversion from float64 to uint8. Range [0, 1]. Convert image to uint8 prior to saving to suppress this warning.\n",
            "WARNING:root:Lossy conversion from float64 to uint8. Range [0, 1]. Convert image to uint8 prior to saving to suppress this warning.\n"
          ]
        },
        {
          "metadata": {
            "tags": null
          },
          "name": "stdout",
          "output_type": "stream",
          "text": [
            "Epoch: [  65/25000] d_bin_loss: 0.59152, d_mul_loss: 0.03878, d_loss: 0.63030, g_bin_loss: 5.62833, g_mul_loss: 0.02778, g_loss: 5.65611\n"
          ]
        },
        {
          "metadata": {
            "tags": null
          },
          "name": "stderr",
          "output_type": "stream",
          "text": [
            "WARNING:root:Lossy conversion from float64 to uint8. Range [0, 1]. Convert image to uint8 prior to saving to suppress this warning.\n",
            "WARNING:root:Lossy conversion from float64 to uint8. Range [0, 1]. Convert image to uint8 prior to saving to suppress this warning.\n"
          ]
        },
        {
          "metadata": {
            "tags": null
          },
          "name": "stdout",
          "output_type": "stream",
          "text": [
            "Epoch: [  66/25000] d_bin_loss: 0.22147, d_mul_loss: 0.02507, d_loss: 0.24654, g_bin_loss: 4.35312, g_mul_loss: 0.02148, g_loss: 4.37459\n"
          ]
        },
        {
          "metadata": {
            "tags": null
          },
          "name": "stderr",
          "output_type": "stream",
          "text": [
            "WARNING:root:Lossy conversion from float64 to uint8. Range [0, 1]. Convert image to uint8 prior to saving to suppress this warning.\n",
            "WARNING:root:Lossy conversion from float64 to uint8. Range [0, 1]. Convert image to uint8 prior to saving to suppress this warning.\n"
          ]
        },
        {
          "metadata": {
            "tags": null
          },
          "name": "stdout",
          "output_type": "stream",
          "text": [
            "Epoch: [  67/25000] d_bin_loss: 0.19733, d_mul_loss: 0.03264, d_loss: 0.22996, g_bin_loss: 5.16451, g_mul_loss: 0.02993, g_loss: 5.19444\n"
          ]
        },
        {
          "metadata": {
            "tags": null
          },
          "name": "stderr",
          "output_type": "stream",
          "text": [
            "WARNING:root:Lossy conversion from float64 to uint8. Range [0, 1]. Convert image to uint8 prior to saving to suppress this warning.\n",
            "WARNING:root:Lossy conversion from float64 to uint8. Range [0, 1]. Convert image to uint8 prior to saving to suppress this warning.\n"
          ]
        },
        {
          "metadata": {
            "tags": null
          },
          "name": "stdout",
          "output_type": "stream",
          "text": [
            "Epoch: [  68/25000] d_bin_loss: 2.31168, d_mul_loss: 0.06537, d_loss: 2.37705, g_bin_loss: 10.24958, g_mul_loss: 0.04551, g_loss: 10.29509\n"
          ]
        },
        {
          "metadata": {
            "tags": null
          },
          "name": "stderr",
          "output_type": "stream",
          "text": [
            "WARNING:root:Lossy conversion from float64 to uint8. Range [0, 1]. Convert image to uint8 prior to saving to suppress this warning.\n",
            "WARNING:root:Lossy conversion from float64 to uint8. Range [0, 1]. Convert image to uint8 prior to saving to suppress this warning.\n"
          ]
        },
        {
          "metadata": {
            "tags": null
          },
          "name": "stdout",
          "output_type": "stream",
          "text": [
            "Epoch: [  69/25000] d_bin_loss: 0.26064, d_mul_loss: 0.03792, d_loss: 0.29856, g_bin_loss: 3.93956, g_mul_loss: 0.02814, g_loss: 3.96771\n"
          ]
        },
        {
          "metadata": {
            "tags": null
          },
          "name": "stderr",
          "output_type": "stream",
          "text": [
            "WARNING:root:Lossy conversion from float64 to uint8. Range [0, 1]. Convert image to uint8 prior to saving to suppress this warning.\n",
            "WARNING:root:Lossy conversion from float64 to uint8. Range [0, 1]. Convert image to uint8 prior to saving to suppress this warning.\n"
          ]
        },
        {
          "metadata": {
            "tags": null
          },
          "name": "stdout",
          "output_type": "stream",
          "text": [
            "Epoch: [  70/25000] d_bin_loss: 0.19148, d_mul_loss: 0.05234, d_loss: 0.24381, g_bin_loss: 4.79589, g_mul_loss: 0.03789, g_loss: 4.83378\n"
          ]
        },
        {
          "metadata": {
            "tags": null
          },
          "name": "stderr",
          "output_type": "stream",
          "text": [
            "WARNING:root:Lossy conversion from float64 to uint8. Range [0, 1]. Convert image to uint8 prior to saving to suppress this warning.\n",
            "WARNING:root:Lossy conversion from float64 to uint8. Range [0, 1]. Convert image to uint8 prior to saving to suppress this warning.\n"
          ]
        },
        {
          "metadata": {
            "tags": null
          },
          "name": "stdout",
          "output_type": "stream",
          "text": [
            "Epoch: [  71/25000] d_bin_loss: 0.27567, d_mul_loss: 0.04575, d_loss: 0.32143, g_bin_loss: 7.45525, g_mul_loss: 0.04052, g_loss: 7.49577\n"
          ]
        },
        {
          "metadata": {
            "tags": null
          },
          "name": "stderr",
          "output_type": "stream",
          "text": [
            "WARNING:root:Lossy conversion from float64 to uint8. Range [0, 1]. Convert image to uint8 prior to saving to suppress this warning.\n",
            "WARNING:root:Lossy conversion from float64 to uint8. Range [0, 1]. Convert image to uint8 prior to saving to suppress this warning.\n"
          ]
        },
        {
          "metadata": {
            "tags": null
          },
          "name": "stdout",
          "output_type": "stream",
          "text": [
            "Epoch: [  72/25000] d_bin_loss: 0.64583, d_mul_loss: 0.07822, d_loss: 0.72405, g_bin_loss: 7.93407, g_mul_loss: 0.06546, g_loss: 7.99953\n"
          ]
        },
        {
          "metadata": {
            "tags": null
          },
          "name": "stderr",
          "output_type": "stream",
          "text": [
            "WARNING:root:Lossy conversion from float64 to uint8. Range [0, 1]. Convert image to uint8 prior to saving to suppress this warning.\n",
            "WARNING:root:Lossy conversion from float64 to uint8. Range [0, 1]. Convert image to uint8 prior to saving to suppress this warning.\n"
          ]
        },
        {
          "metadata": {
            "tags": null
          },
          "name": "stdout",
          "output_type": "stream",
          "text": [
            "Epoch: [  73/25000] d_bin_loss: 0.39452, d_mul_loss: 0.03526, d_loss: 0.42978, g_bin_loss: 2.71223, g_mul_loss: 0.02759, g_loss: 2.73982\n"
          ]
        },
        {
          "metadata": {
            "tags": null
          },
          "name": "stderr",
          "output_type": "stream",
          "text": [
            "WARNING:root:Lossy conversion from float64 to uint8. Range [0, 1]. Convert image to uint8 prior to saving to suppress this warning.\n",
            "WARNING:root:Lossy conversion from float64 to uint8. Range [0, 1]. Convert image to uint8 prior to saving to suppress this warning.\n"
          ]
        },
        {
          "metadata": {
            "tags": null
          },
          "name": "stdout",
          "output_type": "stream",
          "text": [
            "Epoch: [  74/25000] d_bin_loss: 0.44295, d_mul_loss: 0.03101, d_loss: 0.47396, g_bin_loss: 7.18763, g_mul_loss: 0.02267, g_loss: 7.21030\n"
          ]
        },
        {
          "metadata": {
            "tags": null
          },
          "name": "stderr",
          "output_type": "stream",
          "text": [
            "WARNING:root:Lossy conversion from float64 to uint8. Range [0, 1]. Convert image to uint8 prior to saving to suppress this warning.\n",
            "WARNING:root:Lossy conversion from float64 to uint8. Range [0, 1]. Convert image to uint8 prior to saving to suppress this warning.\n"
          ]
        },
        {
          "metadata": {
            "tags": null
          },
          "name": "stdout",
          "output_type": "stream",
          "text": [
            "Epoch: [  75/25000] d_bin_loss: 0.38632, d_mul_loss: 0.07412, d_loss: 0.46044, g_bin_loss: 3.26410, g_mul_loss: 0.05290, g_loss: 3.31700\n"
          ]
        },
        {
          "metadata": {
            "tags": null
          },
          "name": "stderr",
          "output_type": "stream",
          "text": [
            "WARNING:root:Lossy conversion from float64 to uint8. Range [0, 1]. Convert image to uint8 prior to saving to suppress this warning.\n",
            "WARNING:root:Lossy conversion from float64 to uint8. Range [0, 1]. Convert image to uint8 prior to saving to suppress this warning.\n"
          ]
        },
        {
          "metadata": {
            "tags": null
          },
          "name": "stdout",
          "output_type": "stream",
          "text": [
            "Epoch: [  76/25000] d_bin_loss: 0.19637, d_mul_loss: 0.05002, d_loss: 0.24640, g_bin_loss: 5.57193, g_mul_loss: 0.03859, g_loss: 5.61051\n"
          ]
        },
        {
          "metadata": {
            "tags": null
          },
          "name": "stderr",
          "output_type": "stream",
          "text": [
            "WARNING:root:Lossy conversion from float64 to uint8. Range [0, 1]. Convert image to uint8 prior to saving to suppress this warning.\n",
            "WARNING:root:Lossy conversion from float64 to uint8. Range [0, 1]. Convert image to uint8 prior to saving to suppress this warning.\n"
          ]
        },
        {
          "metadata": {
            "tags": null
          },
          "name": "stdout",
          "output_type": "stream",
          "text": [
            "Epoch: [  77/25000] d_bin_loss: 0.20645, d_mul_loss: 0.04691, d_loss: 0.25336, g_bin_loss: 4.62088, g_mul_loss: 0.03613, g_loss: 4.65701\n"
          ]
        },
        {
          "metadata": {
            "tags": null
          },
          "name": "stderr",
          "output_type": "stream",
          "text": [
            "WARNING:root:Lossy conversion from float64 to uint8. Range [0, 1]. Convert image to uint8 prior to saving to suppress this warning.\n",
            "WARNING:root:Lossy conversion from float64 to uint8. Range [0, 1]. Convert image to uint8 prior to saving to suppress this warning.\n"
          ]
        },
        {
          "metadata": {
            "tags": null
          },
          "name": "stdout",
          "output_type": "stream",
          "text": [
            "Epoch: [  78/25000] d_bin_loss: 0.24866, d_mul_loss: 0.05655, d_loss: 0.30521, g_bin_loss: 5.42708, g_mul_loss: 0.05010, g_loss: 5.47718\n"
          ]
        },
        {
          "metadata": {
            "tags": null
          },
          "name": "stderr",
          "output_type": "stream",
          "text": [
            "WARNING:root:Lossy conversion from float64 to uint8. Range [0, 1]. Convert image to uint8 prior to saving to suppress this warning.\n",
            "WARNING:root:Lossy conversion from float64 to uint8. Range [0, 1]. Convert image to uint8 prior to saving to suppress this warning.\n"
          ]
        },
        {
          "metadata": {
            "tags": null
          },
          "name": "stdout",
          "output_type": "stream",
          "text": [
            "Epoch: [  79/25000] d_bin_loss: 0.38890, d_mul_loss: 0.03756, d_loss: 0.42645, g_bin_loss: 4.97421, g_mul_loss: 0.03226, g_loss: 5.00648\n"
          ]
        },
        {
          "metadata": {
            "tags": null
          },
          "name": "stderr",
          "output_type": "stream",
          "text": [
            "WARNING:root:Lossy conversion from float64 to uint8. Range [0, 1]. Convert image to uint8 prior to saving to suppress this warning.\n",
            "WARNING:root:Lossy conversion from float64 to uint8. Range [0, 1]. Convert image to uint8 prior to saving to suppress this warning.\n"
          ]
        },
        {
          "metadata": {
            "tags": null
          },
          "name": "stdout",
          "output_type": "stream",
          "text": [
            "Epoch: [  80/25000] d_bin_loss: 0.76051, d_mul_loss: 0.03659, d_loss: 0.79709, g_bin_loss: 7.87223, g_mul_loss: 0.03267, g_loss: 7.90490\n"
          ]
        },
        {
          "metadata": {
            "tags": null
          },
          "name": "stderr",
          "output_type": "stream",
          "text": [
            "WARNING:root:Lossy conversion from float64 to uint8. Range [0, 1]. Convert image to uint8 prior to saving to suppress this warning.\n",
            "WARNING:root:Lossy conversion from float64 to uint8. Range [0, 1]. Convert image to uint8 prior to saving to suppress this warning.\n"
          ]
        },
        {
          "metadata": {
            "tags": null
          },
          "name": "stdout",
          "output_type": "stream",
          "text": [
            "Epoch: [  81/25000] d_bin_loss: 0.85378, d_mul_loss: 0.03942, d_loss: 0.89320, g_bin_loss: 1.16360, g_mul_loss: 0.02700, g_loss: 1.19060\n"
          ]
        },
        {
          "metadata": {
            "tags": null
          },
          "name": "stderr",
          "output_type": "stream",
          "text": [
            "WARNING:root:Lossy conversion from float64 to uint8. Range [0, 1]. Convert image to uint8 prior to saving to suppress this warning.\n",
            "WARNING:root:Lossy conversion from float64 to uint8. Range [0, 1]. Convert image to uint8 prior to saving to suppress this warning.\n"
          ]
        },
        {
          "metadata": {
            "tags": null
          },
          "name": "stdout",
          "output_type": "stream",
          "text": [
            "Epoch: [  82/25000] d_bin_loss: 1.54541, d_mul_loss: 0.09314, d_loss: 1.63855, g_bin_loss: 5.36102, g_mul_loss: 0.07300, g_loss: 5.43402\n"
          ]
        },
        {
          "metadata": {
            "tags": null
          },
          "name": "stderr",
          "output_type": "stream",
          "text": [
            "WARNING:root:Lossy conversion from float64 to uint8. Range [0, 1]. Convert image to uint8 prior to saving to suppress this warning.\n",
            "WARNING:root:Lossy conversion from float64 to uint8. Range [0, 1]. Convert image to uint8 prior to saving to suppress this warning.\n"
          ]
        },
        {
          "metadata": {
            "tags": null
          },
          "name": "stdout",
          "output_type": "stream",
          "text": [
            "Epoch: [  83/25000] d_bin_loss: 0.21524, d_mul_loss: 0.07921, d_loss: 0.29446, g_bin_loss: 4.23640, g_mul_loss: 0.05921, g_loss: 4.29562\n"
          ]
        },
        {
          "metadata": {
            "tags": null
          },
          "name": "stderr",
          "output_type": "stream",
          "text": [
            "WARNING:root:Lossy conversion from float64 to uint8. Range [0, 1]. Convert image to uint8 prior to saving to suppress this warning.\n",
            "WARNING:root:Lossy conversion from float64 to uint8. Range [0, 1]. Convert image to uint8 prior to saving to suppress this warning.\n"
          ]
        },
        {
          "metadata": {
            "tags": null
          },
          "name": "stdout",
          "output_type": "stream",
          "text": [
            "Epoch: [  84/25000] d_bin_loss: 0.19204, d_mul_loss: 0.06098, d_loss: 0.25302, g_bin_loss: 3.48137, g_mul_loss: 0.04710, g_loss: 3.52847\n"
          ]
        },
        {
          "metadata": {
            "tags": null
          },
          "name": "stderr",
          "output_type": "stream",
          "text": [
            "WARNING:root:Lossy conversion from float64 to uint8. Range [0, 1]. Convert image to uint8 prior to saving to suppress this warning.\n",
            "WARNING:root:Lossy conversion from float64 to uint8. Range [0, 1]. Convert image to uint8 prior to saving to suppress this warning.\n"
          ]
        },
        {
          "metadata": {
            "tags": null
          },
          "name": "stdout",
          "output_type": "stream",
          "text": [
            "Epoch: [  85/25000] d_bin_loss: 0.13754, d_mul_loss: 0.02311, d_loss: 0.16065, g_bin_loss: 3.78761, g_mul_loss: 0.01916, g_loss: 3.80678\n"
          ]
        },
        {
          "metadata": {
            "tags": null
          },
          "name": "stderr",
          "output_type": "stream",
          "text": [
            "WARNING:root:Lossy conversion from float64 to uint8. Range [0, 1]. Convert image to uint8 prior to saving to suppress this warning.\n",
            "WARNING:root:Lossy conversion from float64 to uint8. Range [0, 1]. Convert image to uint8 prior to saving to suppress this warning.\n"
          ]
        },
        {
          "metadata": {
            "tags": null
          },
          "name": "stdout",
          "output_type": "stream",
          "text": [
            "Epoch: [  86/25000] d_bin_loss: 0.40299, d_mul_loss: 0.01736, d_loss: 0.42035, g_bin_loss: 3.52227, g_mul_loss: 0.01628, g_loss: 3.53855\n"
          ]
        },
        {
          "metadata": {
            "tags": null
          },
          "name": "stderr",
          "output_type": "stream",
          "text": [
            "WARNING:root:Lossy conversion from float64 to uint8. Range [0, 1]. Convert image to uint8 prior to saving to suppress this warning.\n",
            "WARNING:root:Lossy conversion from float64 to uint8. Range [0, 1]. Convert image to uint8 prior to saving to suppress this warning.\n"
          ]
        },
        {
          "metadata": {
            "tags": null
          },
          "name": "stdout",
          "output_type": "stream",
          "text": [
            "Epoch: [  87/25000] d_bin_loss: 0.21963, d_mul_loss: 0.08422, d_loss: 0.30384, g_bin_loss: 3.31010, g_mul_loss: 0.05712, g_loss: 3.36721\n"
          ]
        },
        {
          "metadata": {
            "tags": null
          },
          "name": "stderr",
          "output_type": "stream",
          "text": [
            "WARNING:root:Lossy conversion from float64 to uint8. Range [0, 1]. Convert image to uint8 prior to saving to suppress this warning.\n",
            "WARNING:root:Lossy conversion from float64 to uint8. Range [0, 1]. Convert image to uint8 prior to saving to suppress this warning.\n"
          ]
        },
        {
          "metadata": {
            "tags": null
          },
          "name": "stdout",
          "output_type": "stream",
          "text": [
            "Epoch: [  88/25000] d_bin_loss: 0.27367, d_mul_loss: 0.08481, d_loss: 0.35848, g_bin_loss: 3.74081, g_mul_loss: 0.06872, g_loss: 3.80953\n"
          ]
        },
        {
          "metadata": {
            "tags": null
          },
          "name": "stderr",
          "output_type": "stream",
          "text": [
            "WARNING:root:Lossy conversion from float64 to uint8. Range [0, 1]. Convert image to uint8 prior to saving to suppress this warning.\n",
            "WARNING:root:Lossy conversion from float64 to uint8. Range [0, 1]. Convert image to uint8 prior to saving to suppress this warning.\n"
          ]
        },
        {
          "metadata": {
            "tags": null
          },
          "name": "stdout",
          "output_type": "stream",
          "text": [
            "Epoch: [  89/25000] d_bin_loss: 0.26508, d_mul_loss: 0.16352, d_loss: 0.42859, g_bin_loss: 4.63558, g_mul_loss: 0.03307, g_loss: 4.66865\n"
          ]
        },
        {
          "metadata": {
            "tags": null
          },
          "name": "stderr",
          "output_type": "stream",
          "text": [
            "WARNING:root:Lossy conversion from float64 to uint8. Range [0, 1]. Convert image to uint8 prior to saving to suppress this warning.\n",
            "WARNING:root:Lossy conversion from float64 to uint8. Range [0, 1]. Convert image to uint8 prior to saving to suppress this warning.\n"
          ]
        },
        {
          "metadata": {
            "tags": null
          },
          "name": "stdout",
          "output_type": "stream",
          "text": [
            "Epoch: [  90/25000] d_bin_loss: 0.55756, d_mul_loss: 0.08295, d_loss: 0.64050, g_bin_loss: 3.20366, g_mul_loss: 0.06300, g_loss: 3.26666\n"
          ]
        },
        {
          "metadata": {
            "tags": null
          },
          "name": "stderr",
          "output_type": "stream",
          "text": [
            "WARNING:root:Lossy conversion from float64 to uint8. Range [0, 1]. Convert image to uint8 prior to saving to suppress this warning.\n",
            "WARNING:root:Lossy conversion from float64 to uint8. Range [0, 1]. Convert image to uint8 prior to saving to suppress this warning.\n"
          ]
        },
        {
          "metadata": {
            "tags": null
          },
          "name": "stdout",
          "output_type": "stream",
          "text": [
            "Epoch: [  91/25000] d_bin_loss: 0.16785, d_mul_loss: 0.02686, d_loss: 0.19470, g_bin_loss: 3.97033, g_mul_loss: 0.02361, g_loss: 3.99394\n"
          ]
        },
        {
          "metadata": {
            "tags": null
          },
          "name": "stderr",
          "output_type": "stream",
          "text": [
            "WARNING:root:Lossy conversion from float64 to uint8. Range [0, 1]. Convert image to uint8 prior to saving to suppress this warning.\n",
            "WARNING:root:Lossy conversion from float64 to uint8. Range [0, 1]. Convert image to uint8 prior to saving to suppress this warning.\n"
          ]
        },
        {
          "metadata": {
            "tags": null
          },
          "name": "stdout",
          "output_type": "stream",
          "text": [
            "Epoch: [  92/25000] d_bin_loss: 0.70980, d_mul_loss: 0.02429, d_loss: 0.73409, g_bin_loss: 2.95569, g_mul_loss: 0.01944, g_loss: 2.97512\n"
          ]
        },
        {
          "metadata": {
            "tags": null
          },
          "name": "stderr",
          "output_type": "stream",
          "text": [
            "WARNING:root:Lossy conversion from float64 to uint8. Range [0, 1]. Convert image to uint8 prior to saving to suppress this warning.\n",
            "WARNING:root:Lossy conversion from float64 to uint8. Range [0, 1]. Convert image to uint8 prior to saving to suppress this warning.\n"
          ]
        },
        {
          "metadata": {
            "tags": null
          },
          "name": "stdout",
          "output_type": "stream",
          "text": [
            "Epoch: [  93/25000] d_bin_loss: 0.92108, d_mul_loss: 0.03379, d_loss: 0.95487, g_bin_loss: 4.69816, g_mul_loss: 0.02615, g_loss: 4.72431\n"
          ]
        },
        {
          "metadata": {
            "tags": null
          },
          "name": "stderr",
          "output_type": "stream",
          "text": [
            "WARNING:root:Lossy conversion from float64 to uint8. Range [0, 1]. Convert image to uint8 prior to saving to suppress this warning.\n",
            "WARNING:root:Lossy conversion from float64 to uint8. Range [0, 1]. Convert image to uint8 prior to saving to suppress this warning.\n"
          ]
        },
        {
          "metadata": {
            "tags": null
          },
          "name": "stdout",
          "output_type": "stream",
          "text": [
            "Epoch: [  94/25000] d_bin_loss: 0.59410, d_mul_loss: 0.06880, d_loss: 0.66289, g_bin_loss: 2.97224, g_mul_loss: 0.04863, g_loss: 3.02088\n"
          ]
        },
        {
          "metadata": {
            "tags": null
          },
          "name": "stderr",
          "output_type": "stream",
          "text": [
            "WARNING:root:Lossy conversion from float64 to uint8. Range [0, 1]. Convert image to uint8 prior to saving to suppress this warning.\n",
            "WARNING:root:Lossy conversion from float64 to uint8. Range [0, 1]. Convert image to uint8 prior to saving to suppress this warning.\n"
          ]
        },
        {
          "metadata": {
            "tags": null
          },
          "name": "stdout",
          "output_type": "stream",
          "text": [
            "Epoch: [  95/25000] d_bin_loss: 0.71890, d_mul_loss: 0.01983, d_loss: 0.73873, g_bin_loss: 6.41920, g_mul_loss: 0.01741, g_loss: 6.43661\n"
          ]
        },
        {
          "metadata": {
            "tags": null
          },
          "name": "stderr",
          "output_type": "stream",
          "text": [
            "WARNING:root:Lossy conversion from float64 to uint8. Range [0, 1]. Convert image to uint8 prior to saving to suppress this warning.\n",
            "WARNING:root:Lossy conversion from float64 to uint8. Range [0, 1]. Convert image to uint8 prior to saving to suppress this warning.\n"
          ]
        },
        {
          "metadata": {
            "tags": null
          },
          "name": "stdout",
          "output_type": "stream",
          "text": [
            "Epoch: [  96/25000] d_bin_loss: 0.30516, d_mul_loss: 0.01818, d_loss: 0.32334, g_bin_loss: 3.74433, g_mul_loss: 0.01628, g_loss: 3.76061\n"
          ]
        },
        {
          "metadata": {
            "tags": null
          },
          "name": "stderr",
          "output_type": "stream",
          "text": [
            "WARNING:root:Lossy conversion from float64 to uint8. Range [0, 1]. Convert image to uint8 prior to saving to suppress this warning.\n",
            "WARNING:root:Lossy conversion from float64 to uint8. Range [0, 1]. Convert image to uint8 prior to saving to suppress this warning.\n"
          ]
        },
        {
          "metadata": {
            "tags": null
          },
          "name": "stdout",
          "output_type": "stream",
          "text": [
            "Epoch: [  97/25000] d_bin_loss: 0.28163, d_mul_loss: 0.02291, d_loss: 0.30454, g_bin_loss: 3.50636, g_mul_loss: 0.01710, g_loss: 3.52347\n"
          ]
        },
        {
          "metadata": {
            "tags": null
          },
          "name": "stderr",
          "output_type": "stream",
          "text": [
            "WARNING:root:Lossy conversion from float64 to uint8. Range [0, 1]. Convert image to uint8 prior to saving to suppress this warning.\n",
            "WARNING:root:Lossy conversion from float64 to uint8. Range [0, 1]. Convert image to uint8 prior to saving to suppress this warning.\n"
          ]
        },
        {
          "metadata": {
            "tags": null
          },
          "name": "stdout",
          "output_type": "stream",
          "text": [
            "Epoch: [  98/25000] d_bin_loss: 0.46579, d_mul_loss: 0.05877, d_loss: 0.52455, g_bin_loss: 6.15125, g_mul_loss: 0.04147, g_loss: 6.19272\n"
          ]
        },
        {
          "metadata": {
            "tags": null
          },
          "name": "stderr",
          "output_type": "stream",
          "text": [
            "WARNING:root:Lossy conversion from float64 to uint8. Range [0, 1]. Convert image to uint8 prior to saving to suppress this warning.\n",
            "WARNING:root:Lossy conversion from float64 to uint8. Range [0, 1]. Convert image to uint8 prior to saving to suppress this warning.\n"
          ]
        },
        {
          "metadata": {
            "tags": null
          },
          "name": "stdout",
          "output_type": "stream",
          "text": [
            "Epoch: [  99/25000] d_bin_loss: 1.52709, d_mul_loss: 0.04176, d_loss: 1.56885, g_bin_loss: 4.64501, g_mul_loss: 0.03400, g_loss: 4.67902\n"
          ]
        },
        {
          "metadata": {
            "tags": null
          },
          "name": "stderr",
          "output_type": "stream",
          "text": [
            "WARNING:root:Lossy conversion from float64 to uint8. Range [0, 1]. Convert image to uint8 prior to saving to suppress this warning.\n",
            "WARNING:root:Lossy conversion from float64 to uint8. Range [0, 1]. Convert image to uint8 prior to saving to suppress this warning.\n"
          ]
        },
        {
          "metadata": {
            "tags": null
          },
          "name": "stdout",
          "output_type": "stream",
          "text": [
            "Epoch: [ 100/25000] d_bin_loss: 0.32331, d_mul_loss: 0.05847, d_loss: 0.38179, g_bin_loss: 4.08753, g_mul_loss: 0.04449, g_loss: 4.13202\n"
          ]
        },
        {
          "metadata": {
            "tags": null
          },
          "name": "stderr",
          "output_type": "stream",
          "text": [
            "WARNING:root:Lossy conversion from float64 to uint8. Range [0, 1]. Convert image to uint8 prior to saving to suppress this warning.\n",
            "WARNING:root:Lossy conversion from float64 to uint8. Range [0, 1]. Convert image to uint8 prior to saving to suppress this warning.\n"
          ]
        },
        {
          "metadata": {
            "tags": null
          },
          "name": "stdout",
          "output_type": "stream",
          "text": [
            "Epoch: [ 101/25000] d_bin_loss: 0.20615, d_mul_loss: 0.06803, d_loss: 0.27418, g_bin_loss: 4.78363, g_mul_loss: 0.04417, g_loss: 4.82780\n"
          ]
        },
        {
          "metadata": {
            "tags": null
          },
          "name": "stderr",
          "output_type": "stream",
          "text": [
            "WARNING:root:Lossy conversion from float64 to uint8. Range [0, 1]. Convert image to uint8 prior to saving to suppress this warning.\n",
            "WARNING:root:Lossy conversion from float64 to uint8. Range [0, 1]. Convert image to uint8 prior to saving to suppress this warning.\n"
          ]
        },
        {
          "metadata": {
            "tags": null
          },
          "name": "stdout",
          "output_type": "stream",
          "text": [
            "Epoch: [ 102/25000] d_bin_loss: 1.11604, d_mul_loss: 0.07173, d_loss: 1.18777, g_bin_loss: 8.16504, g_mul_loss: 0.06024, g_loss: 8.22528\n"
          ]
        },
        {
          "metadata": {
            "tags": null
          },
          "name": "stderr",
          "output_type": "stream",
          "text": [
            "WARNING:root:Lossy conversion from float64 to uint8. Range [0, 1]. Convert image to uint8 prior to saving to suppress this warning.\n",
            "WARNING:root:Lossy conversion from float64 to uint8. Range [0, 1]. Convert image to uint8 prior to saving to suppress this warning.\n"
          ]
        },
        {
          "metadata": {
            "tags": null
          },
          "name": "stdout",
          "output_type": "stream",
          "text": [
            "Epoch: [ 103/25000] d_bin_loss: 0.38798, d_mul_loss: 0.05082, d_loss: 0.43879, g_bin_loss: 3.66559, g_mul_loss: 0.04220, g_loss: 3.70778\n"
          ]
        },
        {
          "metadata": {
            "tags": null
          },
          "name": "stderr",
          "output_type": "stream",
          "text": [
            "WARNING:root:Lossy conversion from float64 to uint8. Range [0, 1]. Convert image to uint8 prior to saving to suppress this warning.\n",
            "WARNING:root:Lossy conversion from float64 to uint8. Range [0, 1]. Convert image to uint8 prior to saving to suppress this warning.\n"
          ]
        },
        {
          "metadata": {
            "tags": null
          },
          "name": "stdout",
          "output_type": "stream",
          "text": [
            "Epoch: [ 104/25000] d_bin_loss: 0.32115, d_mul_loss: 0.03757, d_loss: 0.35872, g_bin_loss: 3.34796, g_mul_loss: 0.03344, g_loss: 3.38139\n"
          ]
        },
        {
          "metadata": {
            "tags": null
          },
          "name": "stderr",
          "output_type": "stream",
          "text": [
            "WARNING:root:Lossy conversion from float64 to uint8. Range [0, 1]. Convert image to uint8 prior to saving to suppress this warning.\n",
            "WARNING:root:Lossy conversion from float64 to uint8. Range [0, 1]. Convert image to uint8 prior to saving to suppress this warning.\n"
          ]
        },
        {
          "metadata": {
            "tags": null
          },
          "name": "stdout",
          "output_type": "stream",
          "text": [
            "Epoch: [ 105/25000] d_bin_loss: 0.29804, d_mul_loss: 0.05084, d_loss: 0.34888, g_bin_loss: 3.84816, g_mul_loss: 0.02972, g_loss: 3.87788\n"
          ]
        },
        {
          "metadata": {
            "tags": null
          },
          "name": "stderr",
          "output_type": "stream",
          "text": [
            "WARNING:root:Lossy conversion from float64 to uint8. Range [0, 1]. Convert image to uint8 prior to saving to suppress this warning.\n",
            "WARNING:root:Lossy conversion from float64 to uint8. Range [0, 1]. Convert image to uint8 prior to saving to suppress this warning.\n"
          ]
        },
        {
          "metadata": {
            "tags": null
          },
          "name": "stdout",
          "output_type": "stream",
          "text": [
            "Epoch: [ 106/25000] d_bin_loss: 0.27401, d_mul_loss: 0.01138, d_loss: 0.28539, g_bin_loss: 3.57932, g_mul_loss: 0.01092, g_loss: 3.59023\n"
          ]
        },
        {
          "metadata": {
            "tags": null
          },
          "name": "stderr",
          "output_type": "stream",
          "text": [
            "WARNING:root:Lossy conversion from float64 to uint8. Range [0, 1]. Convert image to uint8 prior to saving to suppress this warning.\n",
            "WARNING:root:Lossy conversion from float64 to uint8. Range [0, 1]. Convert image to uint8 prior to saving to suppress this warning.\n"
          ]
        },
        {
          "metadata": {
            "tags": null
          },
          "name": "stdout",
          "output_type": "stream",
          "text": [
            "Epoch: [ 107/25000] d_bin_loss: 0.49476, d_mul_loss: 0.02895, d_loss: 0.52371, g_bin_loss: 3.57770, g_mul_loss: 0.02610, g_loss: 3.60380\n"
          ]
        },
        {
          "metadata": {
            "tags": null
          },
          "name": "stderr",
          "output_type": "stream",
          "text": [
            "WARNING:root:Lossy conversion from float64 to uint8. Range [0, 1]. Convert image to uint8 prior to saving to suppress this warning.\n",
            "WARNING:root:Lossy conversion from float64 to uint8. Range [0, 1]. Convert image to uint8 prior to saving to suppress this warning.\n"
          ]
        },
        {
          "metadata": {
            "tags": null
          },
          "name": "stdout",
          "output_type": "stream",
          "text": [
            "Epoch: [ 108/25000] d_bin_loss: 0.32083, d_mul_loss: 0.01211, d_loss: 0.33294, g_bin_loss: 3.49921, g_mul_loss: 0.01193, g_loss: 3.51114\n"
          ]
        },
        {
          "metadata": {
            "tags": null
          },
          "name": "stderr",
          "output_type": "stream",
          "text": [
            "WARNING:root:Lossy conversion from float64 to uint8. Range [0, 1]. Convert image to uint8 prior to saving to suppress this warning.\n",
            "WARNING:root:Lossy conversion from float64 to uint8. Range [0, 1]. Convert image to uint8 prior to saving to suppress this warning.\n"
          ]
        },
        {
          "output_type": "stream",
          "name": "stdout",
          "text": [
            "Epoch: [ 109/25000] d_bin_loss: 0.29972, d_mul_loss: 0.04203, d_loss: 0.34176, g_bin_loss: 4.54950, g_mul_loss: 0.02502, g_loss: 4.57452\n"
          ]
        },
        {
          "output_type": "stream",
          "name": "stderr",
          "text": [
            "WARNING:root:Lossy conversion from float64 to uint8. Range [0, 1]. Convert image to uint8 prior to saving to suppress this warning.\n",
            "WARNING:root:Lossy conversion from float64 to uint8. Range [0, 1]. Convert image to uint8 prior to saving to suppress this warning.\n"
          ]
        },
        {
          "output_type": "stream",
          "name": "stdout",
          "text": [
            "Epoch: [ 110/25000] d_bin_loss: 0.34304, d_mul_loss: 0.01794, d_loss: 0.36098, g_bin_loss: 2.88066, g_mul_loss: 0.01601, g_loss: 2.89667\n"
          ]
        },
        {
          "output_type": "stream",
          "name": "stderr",
          "text": [
            "WARNING:root:Lossy conversion from float64 to uint8. Range [0, 1]. Convert image to uint8 prior to saving to suppress this warning.\n",
            "WARNING:root:Lossy conversion from float64 to uint8. Range [0, 1]. Convert image to uint8 prior to saving to suppress this warning.\n"
          ]
        },
        {
          "output_type": "stream",
          "name": "stdout",
          "text": [
            "Epoch: [ 111/25000] d_bin_loss: 0.67194, d_mul_loss: 0.01660, d_loss: 0.68854, g_bin_loss: 4.99059, g_mul_loss: 0.01859, g_loss: 5.00918\n"
          ]
        },
        {
          "output_type": "stream",
          "name": "stderr",
          "text": [
            "WARNING:root:Lossy conversion from float64 to uint8. Range [0, 1]. Convert image to uint8 prior to saving to suppress this warning.\n",
            "WARNING:root:Lossy conversion from float64 to uint8. Range [0, 1]. Convert image to uint8 prior to saving to suppress this warning.\n"
          ]
        },
        {
          "output_type": "stream",
          "name": "stdout",
          "text": [
            "Epoch: [ 112/25000] d_bin_loss: 0.87549, d_mul_loss: 0.06046, d_loss: 0.93595, g_bin_loss: 3.93536, g_mul_loss: 0.04271, g_loss: 3.97807\n"
          ]
        },
        {
          "output_type": "stream",
          "name": "stderr",
          "text": [
            "WARNING:root:Lossy conversion from float64 to uint8. Range [0, 1]. Convert image to uint8 prior to saving to suppress this warning.\n",
            "WARNING:root:Lossy conversion from float64 to uint8. Range [0, 1]. Convert image to uint8 prior to saving to suppress this warning.\n"
          ]
        },
        {
          "output_type": "stream",
          "name": "stdout",
          "text": [
            "Epoch: [ 113/25000] d_bin_loss: 0.64675, d_mul_loss: 0.04631, d_loss: 0.69306, g_bin_loss: 3.72786, g_mul_loss: 0.03394, g_loss: 3.76180\n"
          ]
        },
        {
          "output_type": "stream",
          "name": "stderr",
          "text": [
            "WARNING:root:Lossy conversion from float64 to uint8. Range [0, 1]. Convert image to uint8 prior to saving to suppress this warning.\n",
            "WARNING:root:Lossy conversion from float64 to uint8. Range [0, 1]. Convert image to uint8 prior to saving to suppress this warning.\n"
          ]
        },
        {
          "output_type": "stream",
          "name": "stdout",
          "text": [
            "Epoch: [ 114/25000] d_bin_loss: 0.40976, d_mul_loss: 0.03479, d_loss: 0.44454, g_bin_loss: 4.53386, g_mul_loss: 0.02469, g_loss: 4.55855\n"
          ]
        },
        {
          "output_type": "stream",
          "name": "stderr",
          "text": [
            "WARNING:root:Lossy conversion from float64 to uint8. Range [0, 1]. Convert image to uint8 prior to saving to suppress this warning.\n",
            "WARNING:root:Lossy conversion from float64 to uint8. Range [0, 1]. Convert image to uint8 prior to saving to suppress this warning.\n"
          ]
        },
        {
          "output_type": "stream",
          "name": "stdout",
          "text": [
            "Epoch: [ 115/25000] d_bin_loss: 0.29414, d_mul_loss: 0.02718, d_loss: 0.32132, g_bin_loss: 4.05786, g_mul_loss: 0.02389, g_loss: 4.08175\n"
          ]
        },
        {
          "output_type": "stream",
          "name": "stderr",
          "text": [
            "WARNING:root:Lossy conversion from float64 to uint8. Range [0, 1]. Convert image to uint8 prior to saving to suppress this warning.\n",
            "WARNING:root:Lossy conversion from float64 to uint8. Range [0, 1]. Convert image to uint8 prior to saving to suppress this warning.\n"
          ]
        },
        {
          "output_type": "stream",
          "name": "stdout",
          "text": [
            "Epoch: [ 116/25000] d_bin_loss: 0.26760, d_mul_loss: 0.07990, d_loss: 0.34751, g_bin_loss: 4.29689, g_mul_loss: 0.04765, g_loss: 4.34454\n"
          ]
        },
        {
          "output_type": "stream",
          "name": "stderr",
          "text": [
            "WARNING:root:Lossy conversion from float64 to uint8. Range [0, 1]. Convert image to uint8 prior to saving to suppress this warning.\n",
            "WARNING:root:Lossy conversion from float64 to uint8. Range [0, 1]. Convert image to uint8 prior to saving to suppress this warning.\n"
          ]
        },
        {
          "output_type": "stream",
          "name": "stdout",
          "text": [
            "Epoch: [ 117/25000] d_bin_loss: 0.77886, d_mul_loss: 0.04478, d_loss: 0.82365, g_bin_loss: 6.57893, g_mul_loss: 0.03736, g_loss: 6.61628\n"
          ]
        },
        {
          "output_type": "stream",
          "name": "stderr",
          "text": [
            "WARNING:root:Lossy conversion from float64 to uint8. Range [0, 1]. Convert image to uint8 prior to saving to suppress this warning.\n",
            "WARNING:root:Lossy conversion from float64 to uint8. Range [0, 1]. Convert image to uint8 prior to saving to suppress this warning.\n"
          ]
        },
        {
          "output_type": "stream",
          "name": "stdout",
          "text": [
            "Epoch: [ 118/25000] d_bin_loss: 0.43948, d_mul_loss: 0.04730, d_loss: 0.48678, g_bin_loss: 3.12110, g_mul_loss: 0.03218, g_loss: 3.15328\n"
          ]
        },
        {
          "output_type": "stream",
          "name": "stderr",
          "text": [
            "WARNING:root:Lossy conversion from float64 to uint8. Range [0, 1]. Convert image to uint8 prior to saving to suppress this warning.\n",
            "WARNING:root:Lossy conversion from float64 to uint8. Range [0, 1]. Convert image to uint8 prior to saving to suppress this warning.\n"
          ]
        }
      ]
    },
    {
      "cell_type": "code",
      "metadata": {
        "id": "GsTaAi1wGoY1"
      },
      "source": [
        ""
      ],
      "execution_count": null,
      "outputs": []
    },
    {
      "cell_type": "code",
      "metadata": {
        "id": "sozKVdJnprHM"
      },
      "source": [
        " "
      ],
      "execution_count": null,
      "outputs": []
    }
  ]
}